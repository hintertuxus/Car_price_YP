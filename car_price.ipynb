{
 "cells": [
  {
   "cell_type": "markdown",
   "metadata": {},
   "source": [
    "# Определения стоимости автомобилей"
   ]
  },
  {
   "cell_type": "markdown",
   "metadata": {},
   "source": [
    "Сервис по продаже автомобилей с пробегом «Не бит, не крашен» разрабатывает приложение для привлечения новых клиентов. В нём можно быстро узнать рыночную стоимость своего автомобиля. В вашем распоряжении исторические данные: технические характеристики, комплектации и цены автомобилей. Вам нужно построить модель для определения стоимости. \n",
    "\n",
    "Заказчику важны:\n",
    "\n",
    "- качество предсказания;\n",
    "- скорость предсказания;\n",
    "- время обучения."
   ]
  },
  {
   "cell_type": "markdown",
   "metadata": {},
   "source": [
    "__Цель исследования:__\n",
    "\n",
    "Построить модель, которая умеет предсказывать стоимость автомобиля по заданным параметрам."
   ]
  },
  {
   "cell_type": "markdown",
   "metadata": {},
   "source": [
    "__Ход исследования:__\n",
    "\n",
    "1. Загрузить,подготовить и исследовать данные.\n",
    "2. Обучить разные модели.\n",
    "3. Проанализировать скорость работы и качество моделей.\n",
    "4. Выбрать наулилучшую модель по 3 параметрам: качество, скорость и время обучения."
   ]
  },
  {
   "cell_type": "code",
   "execution_count": 1,
   "metadata": {},
   "outputs": [],
   "source": [
    "import pandas as pd\n",
    "import numpy as np\n",
    "from matplotlib import pyplot as plt\n",
    "import seaborn as sns\n",
    "from sklearn.linear_model import LinearRegression\n",
    "from sklearn.ensemble import RandomForestRegressor\n",
    "from sklearn.dummy import DummyRegressor\n",
    "from sklearn.model_selection import train_test_split\n",
    "from sklearn.preprocessing import StandardScaler\n",
    "from sklearn.metrics import mean_squared_error\n",
    "from sklearn.preprocessing import OrdinalEncoder\n",
    "from sklearn.tree import DecisionTreeRegressor\n",
    "from sklearn.ensemble import RandomForestRegressor\n",
    "import lightgbm as lgb\n",
    "#from sklearn.model_selection import GridSearchCV\n",
    "from sklearn.model_selection import RandomizedSearchCV"
   ]
  },
  {
   "cell_type": "markdown",
   "metadata": {},
   "source": [
    "## Подготовка данных"
   ]
  },
  {
   "cell_type": "markdown",
   "metadata": {},
   "source": [
    "### Обзор данных"
   ]
  },
  {
   "cell_type": "markdown",
   "metadata": {},
   "source": [
    "Для знакомства с данными откроем файлы и выведем:\n",
    "    \n",
    "1. Первые 10 строк таблицы\n",
    "\n",
    "2. Общую информацию по таблице\n",
    "\n",
    "3. Гистограммы для всех числовых столбцов таблицы"
   ]
  },
  {
   "cell_type": "code",
   "execution_count": 2,
   "metadata": {},
   "outputs": [],
   "source": [
    "try:\n",
    "    df = pd.read_csv('/datasets/autos.csv')\n",
    "except:\n",
    "    df = pd.read_csv('https://code.s3.yandex.net/datasets/autos.csv')"
   ]
  },
  {
   "cell_type": "code",
   "execution_count": 3,
   "metadata": {
    "scrolled": false
   },
   "outputs": [
    {
     "data": {
      "text/html": [
       "<div>\n",
       "<style scoped>\n",
       "    .dataframe tbody tr th:only-of-type {\n",
       "        vertical-align: middle;\n",
       "    }\n",
       "\n",
       "    .dataframe tbody tr th {\n",
       "        vertical-align: top;\n",
       "    }\n",
       "\n",
       "    .dataframe thead th {\n",
       "        text-align: right;\n",
       "    }\n",
       "</style>\n",
       "<table border=\"1\" class=\"dataframe\">\n",
       "  <thead>\n",
       "    <tr style=\"text-align: right;\">\n",
       "      <th></th>\n",
       "      <th>DateCrawled</th>\n",
       "      <th>Price</th>\n",
       "      <th>VehicleType</th>\n",
       "      <th>RegistrationYear</th>\n",
       "      <th>Gearbox</th>\n",
       "      <th>Power</th>\n",
       "      <th>Model</th>\n",
       "      <th>Kilometer</th>\n",
       "      <th>RegistrationMonth</th>\n",
       "      <th>FuelType</th>\n",
       "      <th>Brand</th>\n",
       "      <th>Repaired</th>\n",
       "      <th>DateCreated</th>\n",
       "      <th>NumberOfPictures</th>\n",
       "      <th>PostalCode</th>\n",
       "      <th>LastSeen</th>\n",
       "    </tr>\n",
       "  </thead>\n",
       "  <tbody>\n",
       "    <tr>\n",
       "      <th>0</th>\n",
       "      <td>2016-03-24 11:52:17</td>\n",
       "      <td>480</td>\n",
       "      <td>NaN</td>\n",
       "      <td>1993</td>\n",
       "      <td>manual</td>\n",
       "      <td>0</td>\n",
       "      <td>golf</td>\n",
       "      <td>150000</td>\n",
       "      <td>0</td>\n",
       "      <td>petrol</td>\n",
       "      <td>volkswagen</td>\n",
       "      <td>NaN</td>\n",
       "      <td>2016-03-24 00:00:00</td>\n",
       "      <td>0</td>\n",
       "      <td>70435</td>\n",
       "      <td>2016-04-07 03:16:57</td>\n",
       "    </tr>\n",
       "    <tr>\n",
       "      <th>1</th>\n",
       "      <td>2016-03-24 10:58:45</td>\n",
       "      <td>18300</td>\n",
       "      <td>coupe</td>\n",
       "      <td>2011</td>\n",
       "      <td>manual</td>\n",
       "      <td>190</td>\n",
       "      <td>NaN</td>\n",
       "      <td>125000</td>\n",
       "      <td>5</td>\n",
       "      <td>gasoline</td>\n",
       "      <td>audi</td>\n",
       "      <td>yes</td>\n",
       "      <td>2016-03-24 00:00:00</td>\n",
       "      <td>0</td>\n",
       "      <td>66954</td>\n",
       "      <td>2016-04-07 01:46:50</td>\n",
       "    </tr>\n",
       "    <tr>\n",
       "      <th>2</th>\n",
       "      <td>2016-03-14 12:52:21</td>\n",
       "      <td>9800</td>\n",
       "      <td>suv</td>\n",
       "      <td>2004</td>\n",
       "      <td>auto</td>\n",
       "      <td>163</td>\n",
       "      <td>grand</td>\n",
       "      <td>125000</td>\n",
       "      <td>8</td>\n",
       "      <td>gasoline</td>\n",
       "      <td>jeep</td>\n",
       "      <td>NaN</td>\n",
       "      <td>2016-03-14 00:00:00</td>\n",
       "      <td>0</td>\n",
       "      <td>90480</td>\n",
       "      <td>2016-04-05 12:47:46</td>\n",
       "    </tr>\n",
       "    <tr>\n",
       "      <th>3</th>\n",
       "      <td>2016-03-17 16:54:04</td>\n",
       "      <td>1500</td>\n",
       "      <td>small</td>\n",
       "      <td>2001</td>\n",
       "      <td>manual</td>\n",
       "      <td>75</td>\n",
       "      <td>golf</td>\n",
       "      <td>150000</td>\n",
       "      <td>6</td>\n",
       "      <td>petrol</td>\n",
       "      <td>volkswagen</td>\n",
       "      <td>no</td>\n",
       "      <td>2016-03-17 00:00:00</td>\n",
       "      <td>0</td>\n",
       "      <td>91074</td>\n",
       "      <td>2016-03-17 17:40:17</td>\n",
       "    </tr>\n",
       "    <tr>\n",
       "      <th>4</th>\n",
       "      <td>2016-03-31 17:25:20</td>\n",
       "      <td>3600</td>\n",
       "      <td>small</td>\n",
       "      <td>2008</td>\n",
       "      <td>manual</td>\n",
       "      <td>69</td>\n",
       "      <td>fabia</td>\n",
       "      <td>90000</td>\n",
       "      <td>7</td>\n",
       "      <td>gasoline</td>\n",
       "      <td>skoda</td>\n",
       "      <td>no</td>\n",
       "      <td>2016-03-31 00:00:00</td>\n",
       "      <td>0</td>\n",
       "      <td>60437</td>\n",
       "      <td>2016-04-06 10:17:21</td>\n",
       "    </tr>\n",
       "    <tr>\n",
       "      <th>5</th>\n",
       "      <td>2016-04-04 17:36:23</td>\n",
       "      <td>650</td>\n",
       "      <td>sedan</td>\n",
       "      <td>1995</td>\n",
       "      <td>manual</td>\n",
       "      <td>102</td>\n",
       "      <td>3er</td>\n",
       "      <td>150000</td>\n",
       "      <td>10</td>\n",
       "      <td>petrol</td>\n",
       "      <td>bmw</td>\n",
       "      <td>yes</td>\n",
       "      <td>2016-04-04 00:00:00</td>\n",
       "      <td>0</td>\n",
       "      <td>33775</td>\n",
       "      <td>2016-04-06 19:17:07</td>\n",
       "    </tr>\n",
       "    <tr>\n",
       "      <th>6</th>\n",
       "      <td>2016-04-01 20:48:51</td>\n",
       "      <td>2200</td>\n",
       "      <td>convertible</td>\n",
       "      <td>2004</td>\n",
       "      <td>manual</td>\n",
       "      <td>109</td>\n",
       "      <td>2_reihe</td>\n",
       "      <td>150000</td>\n",
       "      <td>8</td>\n",
       "      <td>petrol</td>\n",
       "      <td>peugeot</td>\n",
       "      <td>no</td>\n",
       "      <td>2016-04-01 00:00:00</td>\n",
       "      <td>0</td>\n",
       "      <td>67112</td>\n",
       "      <td>2016-04-05 18:18:39</td>\n",
       "    </tr>\n",
       "    <tr>\n",
       "      <th>7</th>\n",
       "      <td>2016-03-21 18:54:38</td>\n",
       "      <td>0</td>\n",
       "      <td>sedan</td>\n",
       "      <td>1980</td>\n",
       "      <td>manual</td>\n",
       "      <td>50</td>\n",
       "      <td>other</td>\n",
       "      <td>40000</td>\n",
       "      <td>7</td>\n",
       "      <td>petrol</td>\n",
       "      <td>volkswagen</td>\n",
       "      <td>no</td>\n",
       "      <td>2016-03-21 00:00:00</td>\n",
       "      <td>0</td>\n",
       "      <td>19348</td>\n",
       "      <td>2016-03-25 16:47:58</td>\n",
       "    </tr>\n",
       "    <tr>\n",
       "      <th>8</th>\n",
       "      <td>2016-04-04 23:42:13</td>\n",
       "      <td>14500</td>\n",
       "      <td>bus</td>\n",
       "      <td>2014</td>\n",
       "      <td>manual</td>\n",
       "      <td>125</td>\n",
       "      <td>c_max</td>\n",
       "      <td>30000</td>\n",
       "      <td>8</td>\n",
       "      <td>petrol</td>\n",
       "      <td>ford</td>\n",
       "      <td>NaN</td>\n",
       "      <td>2016-04-04 00:00:00</td>\n",
       "      <td>0</td>\n",
       "      <td>94505</td>\n",
       "      <td>2016-04-04 23:42:13</td>\n",
       "    </tr>\n",
       "    <tr>\n",
       "      <th>9</th>\n",
       "      <td>2016-03-17 10:53:50</td>\n",
       "      <td>999</td>\n",
       "      <td>small</td>\n",
       "      <td>1998</td>\n",
       "      <td>manual</td>\n",
       "      <td>101</td>\n",
       "      <td>golf</td>\n",
       "      <td>150000</td>\n",
       "      <td>0</td>\n",
       "      <td>NaN</td>\n",
       "      <td>volkswagen</td>\n",
       "      <td>NaN</td>\n",
       "      <td>2016-03-17 00:00:00</td>\n",
       "      <td>0</td>\n",
       "      <td>27472</td>\n",
       "      <td>2016-03-31 17:17:06</td>\n",
       "    </tr>\n",
       "  </tbody>\n",
       "</table>\n",
       "</div>"
      ],
      "text/plain": [
       "           DateCrawled  Price  VehicleType  RegistrationYear Gearbox  Power  \\\n",
       "0  2016-03-24 11:52:17    480          NaN              1993  manual      0   \n",
       "1  2016-03-24 10:58:45  18300        coupe              2011  manual    190   \n",
       "2  2016-03-14 12:52:21   9800          suv              2004    auto    163   \n",
       "3  2016-03-17 16:54:04   1500        small              2001  manual     75   \n",
       "4  2016-03-31 17:25:20   3600        small              2008  manual     69   \n",
       "5  2016-04-04 17:36:23    650        sedan              1995  manual    102   \n",
       "6  2016-04-01 20:48:51   2200  convertible              2004  manual    109   \n",
       "7  2016-03-21 18:54:38      0        sedan              1980  manual     50   \n",
       "8  2016-04-04 23:42:13  14500          bus              2014  manual    125   \n",
       "9  2016-03-17 10:53:50    999        small              1998  manual    101   \n",
       "\n",
       "     Model  Kilometer  RegistrationMonth  FuelType       Brand Repaired  \\\n",
       "0     golf     150000                  0    petrol  volkswagen      NaN   \n",
       "1      NaN     125000                  5  gasoline        audi      yes   \n",
       "2    grand     125000                  8  gasoline        jeep      NaN   \n",
       "3     golf     150000                  6    petrol  volkswagen       no   \n",
       "4    fabia      90000                  7  gasoline       skoda       no   \n",
       "5      3er     150000                 10    petrol         bmw      yes   \n",
       "6  2_reihe     150000                  8    petrol     peugeot       no   \n",
       "7    other      40000                  7    petrol  volkswagen       no   \n",
       "8    c_max      30000                  8    petrol        ford      NaN   \n",
       "9     golf     150000                  0       NaN  volkswagen      NaN   \n",
       "\n",
       "           DateCreated  NumberOfPictures  PostalCode             LastSeen  \n",
       "0  2016-03-24 00:00:00                 0       70435  2016-04-07 03:16:57  \n",
       "1  2016-03-24 00:00:00                 0       66954  2016-04-07 01:46:50  \n",
       "2  2016-03-14 00:00:00                 0       90480  2016-04-05 12:47:46  \n",
       "3  2016-03-17 00:00:00                 0       91074  2016-03-17 17:40:17  \n",
       "4  2016-03-31 00:00:00                 0       60437  2016-04-06 10:17:21  \n",
       "5  2016-04-04 00:00:00                 0       33775  2016-04-06 19:17:07  \n",
       "6  2016-04-01 00:00:00                 0       67112  2016-04-05 18:18:39  \n",
       "7  2016-03-21 00:00:00                 0       19348  2016-03-25 16:47:58  \n",
       "8  2016-04-04 00:00:00                 0       94505  2016-04-04 23:42:13  \n",
       "9  2016-03-17 00:00:00                 0       27472  2016-03-31 17:17:06  "
      ]
     },
     "metadata": {},
     "output_type": "display_data"
    },
    {
     "data": {
      "text/html": [
       "<div>\n",
       "<style scoped>\n",
       "    .dataframe tbody tr th:only-of-type {\n",
       "        vertical-align: middle;\n",
       "    }\n",
       "\n",
       "    .dataframe tbody tr th {\n",
       "        vertical-align: top;\n",
       "    }\n",
       "\n",
       "    .dataframe thead th {\n",
       "        text-align: right;\n",
       "    }\n",
       "</style>\n",
       "<table border=\"1\" class=\"dataframe\">\n",
       "  <thead>\n",
       "    <tr style=\"text-align: right;\">\n",
       "      <th></th>\n",
       "      <th>Price</th>\n",
       "      <th>RegistrationYear</th>\n",
       "      <th>Power</th>\n",
       "      <th>Kilometer</th>\n",
       "      <th>RegistrationMonth</th>\n",
       "      <th>NumberOfPictures</th>\n",
       "      <th>PostalCode</th>\n",
       "    </tr>\n",
       "  </thead>\n",
       "  <tbody>\n",
       "    <tr>\n",
       "      <th>count</th>\n",
       "      <td>354369.000000</td>\n",
       "      <td>354369.000000</td>\n",
       "      <td>354369.000000</td>\n",
       "      <td>354369.000000</td>\n",
       "      <td>354369.000000</td>\n",
       "      <td>354369.0</td>\n",
       "      <td>354369.000000</td>\n",
       "    </tr>\n",
       "    <tr>\n",
       "      <th>mean</th>\n",
       "      <td>4416.656776</td>\n",
       "      <td>2004.234448</td>\n",
       "      <td>110.094337</td>\n",
       "      <td>128211.172535</td>\n",
       "      <td>5.714645</td>\n",
       "      <td>0.0</td>\n",
       "      <td>50508.689087</td>\n",
       "    </tr>\n",
       "    <tr>\n",
       "      <th>std</th>\n",
       "      <td>4514.158514</td>\n",
       "      <td>90.227958</td>\n",
       "      <td>189.850405</td>\n",
       "      <td>37905.341530</td>\n",
       "      <td>3.726421</td>\n",
       "      <td>0.0</td>\n",
       "      <td>25783.096248</td>\n",
       "    </tr>\n",
       "    <tr>\n",
       "      <th>min</th>\n",
       "      <td>0.000000</td>\n",
       "      <td>1000.000000</td>\n",
       "      <td>0.000000</td>\n",
       "      <td>5000.000000</td>\n",
       "      <td>0.000000</td>\n",
       "      <td>0.0</td>\n",
       "      <td>1067.000000</td>\n",
       "    </tr>\n",
       "    <tr>\n",
       "      <th>25%</th>\n",
       "      <td>1050.000000</td>\n",
       "      <td>1999.000000</td>\n",
       "      <td>69.000000</td>\n",
       "      <td>125000.000000</td>\n",
       "      <td>3.000000</td>\n",
       "      <td>0.0</td>\n",
       "      <td>30165.000000</td>\n",
       "    </tr>\n",
       "    <tr>\n",
       "      <th>50%</th>\n",
       "      <td>2700.000000</td>\n",
       "      <td>2003.000000</td>\n",
       "      <td>105.000000</td>\n",
       "      <td>150000.000000</td>\n",
       "      <td>6.000000</td>\n",
       "      <td>0.0</td>\n",
       "      <td>49413.000000</td>\n",
       "    </tr>\n",
       "    <tr>\n",
       "      <th>75%</th>\n",
       "      <td>6400.000000</td>\n",
       "      <td>2008.000000</td>\n",
       "      <td>143.000000</td>\n",
       "      <td>150000.000000</td>\n",
       "      <td>9.000000</td>\n",
       "      <td>0.0</td>\n",
       "      <td>71083.000000</td>\n",
       "    </tr>\n",
       "    <tr>\n",
       "      <th>max</th>\n",
       "      <td>20000.000000</td>\n",
       "      <td>9999.000000</td>\n",
       "      <td>20000.000000</td>\n",
       "      <td>150000.000000</td>\n",
       "      <td>12.000000</td>\n",
       "      <td>0.0</td>\n",
       "      <td>99998.000000</td>\n",
       "    </tr>\n",
       "  </tbody>\n",
       "</table>\n",
       "</div>"
      ],
      "text/plain": [
       "               Price  RegistrationYear          Power      Kilometer  \\\n",
       "count  354369.000000     354369.000000  354369.000000  354369.000000   \n",
       "mean     4416.656776       2004.234448     110.094337  128211.172535   \n",
       "std      4514.158514         90.227958     189.850405   37905.341530   \n",
       "min         0.000000       1000.000000       0.000000    5000.000000   \n",
       "25%      1050.000000       1999.000000      69.000000  125000.000000   \n",
       "50%      2700.000000       2003.000000     105.000000  150000.000000   \n",
       "75%      6400.000000       2008.000000     143.000000  150000.000000   \n",
       "max     20000.000000       9999.000000   20000.000000  150000.000000   \n",
       "\n",
       "       RegistrationMonth  NumberOfPictures     PostalCode  \n",
       "count      354369.000000          354369.0  354369.000000  \n",
       "mean            5.714645               0.0   50508.689087  \n",
       "std             3.726421               0.0   25783.096248  \n",
       "min             0.000000               0.0    1067.000000  \n",
       "25%             3.000000               0.0   30165.000000  \n",
       "50%             6.000000               0.0   49413.000000  \n",
       "75%             9.000000               0.0   71083.000000  \n",
       "max            12.000000               0.0   99998.000000  "
      ]
     },
     "metadata": {},
     "output_type": "display_data"
    },
    {
     "name": "stdout",
     "output_type": "stream",
     "text": [
      "<class 'pandas.core.frame.DataFrame'>\n",
      "RangeIndex: 354369 entries, 0 to 354368\n",
      "Data columns (total 16 columns):\n",
      " #   Column             Non-Null Count   Dtype \n",
      "---  ------             --------------   ----- \n",
      " 0   DateCrawled        354369 non-null  object\n",
      " 1   Price              354369 non-null  int64 \n",
      " 2   VehicleType        316879 non-null  object\n",
      " 3   RegistrationYear   354369 non-null  int64 \n",
      " 4   Gearbox            334536 non-null  object\n",
      " 5   Power              354369 non-null  int64 \n",
      " 6   Model              334664 non-null  object\n",
      " 7   Kilometer          354369 non-null  int64 \n",
      " 8   RegistrationMonth  354369 non-null  int64 \n",
      " 9   FuelType           321474 non-null  object\n",
      " 10  Brand              354369 non-null  object\n",
      " 11  Repaired           283215 non-null  object\n",
      " 12  DateCreated        354369 non-null  object\n",
      " 13  NumberOfPictures   354369 non-null  int64 \n",
      " 14  PostalCode         354369 non-null  int64 \n",
      " 15  LastSeen           354369 non-null  object\n",
      "dtypes: int64(7), object(9)\n",
      "memory usage: 43.3+ MB\n"
     ]
    },
    {
     "data": {
      "text/plain": [
       "None"
      ]
     },
     "metadata": {},
     "output_type": "display_data"
    },
    {
     "data": {
      "image/png": "[encoded data removed]",
      "text/plain": [
       "<Figure size 7560x7200 with 9 Axes>"
      ]
     },
     "metadata": {
      "needs_background": "light"
     },
     "output_type": "display_data"
    }
   ],
   "source": [
    "display(df.head(10))\n",
    "display(df.describe())\n",
    "display(df.info())\n",
    "df.hist(bins=50, figsize=(105,100));"
   ]
  },
  {
   "cell_type": "markdown",
   "metadata": {},
   "source": [
    "__Вывод:__ В датасете представлены данные. Необходимо проверить, все ли они необходимы для обучения модели, также проверить на наличие дубликатов и пропусков и привести в более привычный вид названия столбцов."
   ]
  },
  {
   "cell_type": "markdown",
   "metadata": {},
   "source": [
    "### Предобработка данных"
   ]
  },
  {
   "cell_type": "markdown",
   "metadata": {},
   "source": [
    "Для начала приведем названия колонок к общему виду для удобства работы."
   ]
  },
  {
   "cell_type": "code",
   "execution_count": 4,
   "metadata": {
    "scrolled": false
   },
   "outputs": [
    {
     "name": "stdout",
     "output_type": "stream",
     "text": [
      "<class 'pandas.core.frame.DataFrame'>\n",
      "RangeIndex: 354369 entries, 0 to 354368\n",
      "Data columns (total 16 columns):\n",
      " #   Column              Non-Null Count   Dtype \n",
      "---  ------              --------------   ----- \n",
      " 0   date_crawled        354369 non-null  object\n",
      " 1   price               354369 non-null  int64 \n",
      " 2   vehicle_type        316879 non-null  object\n",
      " 3   registration_year   354369 non-null  int64 \n",
      " 4   gearbox             334536 non-null  object\n",
      " 5   power               354369 non-null  int64 \n",
      " 6   model               334664 non-null  object\n",
      " 7   kilometer           354369 non-null  int64 \n",
      " 8   registration_month  354369 non-null  int64 \n",
      " 9   fuel_type           321474 non-null  object\n",
      " 10  brand               354369 non-null  object\n",
      " 11  repaired            283215 non-null  object\n",
      " 12  date_created        354369 non-null  object\n",
      " 13  number_of_pictures  354369 non-null  int64 \n",
      " 14  postal_code         354369 non-null  int64 \n",
      " 15  last_seen           354369 non-null  object\n",
      "dtypes: int64(7), object(9)\n",
      "memory usage: 43.3+ MB\n"
     ]
    },
    {
     "name": "stderr",
     "output_type": "stream",
     "text": [
      "/tmp/ipykernel_301/2963138840.py:1: FutureWarning: The default value of regex will change from True to False in a future version.\n",
      "  df.columns = df.columns.str.replace(r\"([A-Z])\", r\" \\1\").str.lower().str.replace(' ', '_').str[1:]\n"
     ]
    }
   ],
   "source": [
    "df.columns = df.columns.str.replace(r\"([A-Z])\", r\" \\1\").str.lower().str.replace(' ', '_').str[1:]\n",
    "df.info()"
   ]
  },
  {
   "cell_type": "markdown",
   "metadata": {},
   "source": [
    "#### Дубликаты и пропуски"
   ]
  },
  {
   "cell_type": "markdown",
   "metadata": {},
   "source": [
    "Проверим данные на дубликаты и пропуски."
   ]
  },
  {
   "cell_type": "code",
   "execution_count": 5,
   "metadata": {},
   "outputs": [
    {
     "data": {
      "text/plain": [
       "4"
      ]
     },
     "metadata": {},
     "output_type": "display_data"
    }
   ],
   "source": [
    "display(df.duplicated().sum())"
   ]
  },
  {
   "cell_type": "markdown",
   "metadata": {},
   "source": [
    "Полных дубликатов 4 строки. Удалим их."
   ]
  },
  {
   "cell_type": "code",
   "execution_count": 6,
   "metadata": {},
   "outputs": [],
   "source": [
    "df.drop_duplicates(inplace=True)"
   ]
  },
  {
   "cell_type": "code",
   "execution_count": 7,
   "metadata": {
    "scrolled": true
   },
   "outputs": [
    {
     "data": {
      "text/plain": [
       "date_crawled              0\n",
       "price                     0\n",
       "vehicle_type          37490\n",
       "registration_year         0\n",
       "gearbox               19833\n",
       "power                     0\n",
       "model                 19705\n",
       "kilometer                 0\n",
       "registration_month        0\n",
       "fuel_type             32895\n",
       "brand                     0\n",
       "repaired              71154\n",
       "date_created              0\n",
       "number_of_pictures        0\n",
       "postal_code               0\n",
       "last_seen                 0\n",
       "dtype: int64"
      ]
     },
     "execution_count": 7,
     "metadata": {},
     "output_type": "execute_result"
    }
   ],
   "source": [
    "df.isnull().sum()"
   ]
  },
  {
   "cell_type": "code",
   "execution_count": 8,
   "metadata": {
    "scrolled": false
   },
   "outputs": [
    {
     "data": {
      "text/html": [
       "<style  type=\"text/css\" >\n",
       "#T_668a3_row0_col0,#T_668a3_row1_col0,#T_668a3_row3_col0,#T_668a3_row5_col0,#T_668a3_row7_col0,#T_668a3_row8_col0,#T_668a3_row10_col0,#T_668a3_row12_col0,#T_668a3_row13_col0,#T_668a3_row14_col0,#T_668a3_row15_col0{\n",
       "            background-color:  #3b4cc0;\n",
       "            color:  #f1f1f1;\n",
       "        }#T_668a3_row2_col0{\n",
       "            background-color:  #e9d5cb;\n",
       "            color:  #000000;\n",
       "        }#T_668a3_row4_col0,#T_668a3_row6_col0{\n",
       "            background-color:  #9ebeff;\n",
       "            color:  #000000;\n",
       "        }#T_668a3_row9_col0{\n",
       "            background-color:  #cfdaea;\n",
       "            color:  #000000;\n",
       "        }#T_668a3_row11_col0{\n",
       "            background-color:  #b40426;\n",
       "            color:  #f1f1f1;\n",
       "        }</style><table id=\"T_668a3_\" ><thead>    <tr>        <th class=\"blank level0\" ></th>        <th class=\"col_heading level0 col0\" >0</th>    </tr></thead><tbody>\n",
       "                <tr>\n",
       "                        <th id=\"T_668a3_level0_row0\" class=\"row_heading level0 row0\" >date_crawled</th>\n",
       "                        <td id=\"T_668a3_row0_col0\" class=\"data row0 col0\" >0.000000</td>\n",
       "            </tr>\n",
       "            <tr>\n",
       "                        <th id=\"T_668a3_level0_row1\" class=\"row_heading level0 row1\" >price</th>\n",
       "                        <td id=\"T_668a3_row1_col0\" class=\"data row1 col0\" >0.000000</td>\n",
       "            </tr>\n",
       "            <tr>\n",
       "                        <th id=\"T_668a3_level0_row2\" class=\"row_heading level0 row2\" >vehicle_type</th>\n",
       "                        <td id=\"T_668a3_row2_col0\" class=\"data row2 col0\" >11.000000</td>\n",
       "            </tr>\n",
       "            <tr>\n",
       "                        <th id=\"T_668a3_level0_row3\" class=\"row_heading level0 row3\" >registration_year</th>\n",
       "                        <td id=\"T_668a3_row3_col0\" class=\"data row3 col0\" >0.000000</td>\n",
       "            </tr>\n",
       "            <tr>\n",
       "                        <th id=\"T_668a3_level0_row4\" class=\"row_heading level0 row4\" >gearbox</th>\n",
       "                        <td id=\"T_668a3_row4_col0\" class=\"data row4 col0\" >6.000000</td>\n",
       "            </tr>\n",
       "            <tr>\n",
       "                        <th id=\"T_668a3_level0_row5\" class=\"row_heading level0 row5\" >power</th>\n",
       "                        <td id=\"T_668a3_row5_col0\" class=\"data row5 col0\" >0.000000</td>\n",
       "            </tr>\n",
       "            <tr>\n",
       "                        <th id=\"T_668a3_level0_row6\" class=\"row_heading level0 row6\" >model</th>\n",
       "                        <td id=\"T_668a3_row6_col0\" class=\"data row6 col0\" >6.000000</td>\n",
       "            </tr>\n",
       "            <tr>\n",
       "                        <th id=\"T_668a3_level0_row7\" class=\"row_heading level0 row7\" >kilometer</th>\n",
       "                        <td id=\"T_668a3_row7_col0\" class=\"data row7 col0\" >0.000000</td>\n",
       "            </tr>\n",
       "            <tr>\n",
       "                        <th id=\"T_668a3_level0_row8\" class=\"row_heading level0 row8\" >registration_month</th>\n",
       "                        <td id=\"T_668a3_row8_col0\" class=\"data row8 col0\" >0.000000</td>\n",
       "            </tr>\n",
       "            <tr>\n",
       "                        <th id=\"T_668a3_level0_row9\" class=\"row_heading level0 row9\" >fuel_type</th>\n",
       "                        <td id=\"T_668a3_row9_col0\" class=\"data row9 col0\" >9.000000</td>\n",
       "            </tr>\n",
       "            <tr>\n",
       "                        <th id=\"T_668a3_level0_row10\" class=\"row_heading level0 row10\" >brand</th>\n",
       "                        <td id=\"T_668a3_row10_col0\" class=\"data row10 col0\" >0.000000</td>\n",
       "            </tr>\n",
       "            <tr>\n",
       "                        <th id=\"T_668a3_level0_row11\" class=\"row_heading level0 row11\" >repaired</th>\n",
       "                        <td id=\"T_668a3_row11_col0\" class=\"data row11 col0\" >20.000000</td>\n",
       "            </tr>\n",
       "            <tr>\n",
       "                        <th id=\"T_668a3_level0_row12\" class=\"row_heading level0 row12\" >date_created</th>\n",
       "                        <td id=\"T_668a3_row12_col0\" class=\"data row12 col0\" >0.000000</td>\n",
       "            </tr>\n",
       "            <tr>\n",
       "                        <th id=\"T_668a3_level0_row13\" class=\"row_heading level0 row13\" >number_of_pictures</th>\n",
       "                        <td id=\"T_668a3_row13_col0\" class=\"data row13 col0\" >0.000000</td>\n",
       "            </tr>\n",
       "            <tr>\n",
       "                        <th id=\"T_668a3_level0_row14\" class=\"row_heading level0 row14\" >postal_code</th>\n",
       "                        <td id=\"T_668a3_row14_col0\" class=\"data row14 col0\" >0.000000</td>\n",
       "            </tr>\n",
       "            <tr>\n",
       "                        <th id=\"T_668a3_level0_row15\" class=\"row_heading level0 row15\" >last_seen</th>\n",
       "                        <td id=\"T_668a3_row15_col0\" class=\"data row15 col0\" >0.000000</td>\n",
       "            </tr>\n",
       "    </tbody></table>"
      ],
      "text/plain": [
       "<pandas.io.formats.style.Styler at 0x7f1dd40537f0>"
      ]
     },
     "execution_count": 8,
     "metadata": {},
     "output_type": "execute_result"
    }
   ],
   "source": [
    "pd.DataFrame(round(df.isna().mean()*100,)).style.background_gradient('coolwarm')"
   ]
  },
  {
   "cell_type": "markdown",
   "metadata": {},
   "source": [
    "В отличие от дубликатов, пропуски занимают весомое место в данных (до 20% в отдельных случаях). Разберем, в каких ситуациях возникают пропуски."
   ]
  },
  {
   "cell_type": "code",
   "execution_count": 9,
   "metadata": {},
   "outputs": [
    {
     "data": {
      "text/plain": [
       "date_crawled          2237\n",
       "price                 2237\n",
       "vehicle_type             0\n",
       "registration_year     2237\n",
       "gearbox                  0\n",
       "power                 2237\n",
       "model                    0\n",
       "kilometer             2237\n",
       "registration_month    2237\n",
       "fuel_type                0\n",
       "brand                 2237\n",
       "repaired                 0\n",
       "date_created          2237\n",
       "number_of_pictures    2237\n",
       "postal_code           2237\n",
       "last_seen             2237\n",
       "dtype: int64"
      ]
     },
     "execution_count": 9,
     "metadata": {},
     "output_type": "execute_result"
    }
   ],
   "source": [
    "df[df['vehicle_type'].isna() & df['fuel_type'].isna() & df['model'].isna()&df['repaired'].isna()&df['gearbox'].isna()].count()\n",
    "\n"
   ]
  },
  {
   "cell_type": "markdown",
   "metadata": {},
   "source": [
    "Удалим те строки, где пропуски возникают во всех колонках одновременно."
   ]
  },
  {
   "cell_type": "code",
   "execution_count": 10,
   "metadata": {},
   "outputs": [],
   "source": [
    "df = df.dropna(subset=['vehicle_type', 'fuel_type', 'model', 'repaired','gearbox'], how='all')"
   ]
  },
  {
   "cell_type": "code",
   "execution_count": 11,
   "metadata": {},
   "outputs": [
    {
     "data": {
      "text/plain": [
       "sedan          0.288622\n",
       "small          0.251929\n",
       "wagon          0.205649\n",
       "bus            0.090809\n",
       "convertible    0.063757\n",
       "coupe          0.051001\n",
       "suv            0.037857\n",
       "other          0.010376\n",
       "Name: vehicle_type, dtype: float64"
      ]
     },
     "execution_count": 11,
     "metadata": {},
     "output_type": "execute_result"
    }
   ],
   "source": [
    "df.vehicle_type.value_counts(normalize=True)"
   ]
  },
  {
   "cell_type": "code",
   "execution_count": 12,
   "metadata": {},
   "outputs": [],
   "source": [
    "df.vehicle_type = df.vehicle_type.fillna('other')"
   ]
  },
  {
   "cell_type": "code",
   "execution_count": 13,
   "metadata": {},
   "outputs": [
    {
     "data": {
      "text/plain": [
       "golf                  0.087348\n",
       "other                 0.072970\n",
       "3er                   0.059048\n",
       "polo                  0.039043\n",
       "corsa                 0.037561\n",
       "                        ...   \n",
       "i3                    0.000024\n",
       "serie_3               0.000012\n",
       "rangerover            0.000012\n",
       "range_rover_evoque    0.000006\n",
       "serie_1               0.000006\n",
       "Name: model, Length: 250, dtype: float64"
      ]
     },
     "execution_count": 13,
     "metadata": {},
     "output_type": "execute_result"
    }
   ],
   "source": [
    "df.model.value_counts(normalize=True)"
   ]
  },
  {
   "cell_type": "markdown",
   "metadata": {},
   "source": [
    "Также поступим и с пропусками в столбце с моделями машин."
   ]
  },
  {
   "cell_type": "code",
   "execution_count": 14,
   "metadata": {},
   "outputs": [],
   "source": [
    "df.model = df.model.fillna('other')"
   ]
  },
  {
   "cell_type": "code",
   "execution_count": 15,
   "metadata": {},
   "outputs": [
    {
     "data": {
      "text/plain": [
       "petrol      0.672999\n",
       "gasoline    0.307086\n",
       "lpg         0.016518\n",
       "cng         0.001758\n",
       "hybrid      0.000725\n",
       "other       0.000635\n",
       "electric    0.000280\n",
       "Name: fuel_type, dtype: float64"
      ]
     },
     "execution_count": 15,
     "metadata": {},
     "output_type": "execute_result"
    }
   ],
   "source": [
    "df.fuel_type.value_counts(normalize=True)"
   ]
  },
  {
   "cell_type": "markdown",
   "metadata": {},
   "source": [
    "В случае с видами топлива сначала обратим внимание, что типы __petrol__ и __gasoline__ представляют собой один и тот же \"бензин\", просто в разных англоязычных странах. Соответсвенно, сведем их в одну колонку. Пропуски также заполним значением __other__."
   ]
  },
  {
   "cell_type": "code",
   "execution_count": 16,
   "metadata": {},
   "outputs": [],
   "source": [
    "df.fuel_type = df.fuel_type.replace(['gasoline'],'petrol')\n",
    "df.fuel_type = df.fuel_type.fillna('other')"
   ]
  },
  {
   "cell_type": "code",
   "execution_count": 17,
   "metadata": {},
   "outputs": [
    {
     "data": {
      "text/plain": [
       "manual    0.801863\n",
       "auto      0.198137\n",
       "Name: gearbox, dtype: float64"
      ]
     },
     "execution_count": 17,
     "metadata": {},
     "output_type": "execute_result"
    }
   ],
   "source": [
    "df.gearbox.value_counts(normalize=True)"
   ]
  },
  {
   "cell_type": "markdown",
   "metadata": {},
   "source": [
    "В колонке с типом коробки передачи указано два типа - ручная и автоматическая. Скорее всего, в пропущенных данных указаны другие типы, например вариаторная или роботизированная. Заполним пропуски типом __'other'__."
   ]
  },
  {
   "cell_type": "code",
   "execution_count": 18,
   "metadata": {},
   "outputs": [],
   "source": [
    "df.gearbox = df.gearbox.fillna('other')"
   ]
  },
  {
   "cell_type": "code",
   "execution_count": 19,
   "metadata": {},
   "outputs": [
    {
     "data": {
      "text/plain": [
       "no     0.872699\n",
       "yes    0.127301\n",
       "Name: repaired, dtype: float64"
      ]
     },
     "execution_count": 19,
     "metadata": {},
     "output_type": "execute_result"
    }
   ],
   "source": [
    "df.repaired.value_counts(normalize=True)"
   ]
  },
  {
   "cell_type": "markdown",
   "metadata": {},
   "source": [
    "Понять, отремонтирована машина или нет, мы не можем. Заполним пропуски типом __'unknown'__"
   ]
  },
  {
   "cell_type": "code",
   "execution_count": 20,
   "metadata": {},
   "outputs": [],
   "source": [
    "df.repaired = df.repaired.fillna('unknown')"
   ]
  },
  {
   "cell_type": "code",
   "execution_count": 21,
   "metadata": {},
   "outputs": [
    {
     "data": {
      "text/plain": [
       "date_crawled          0\n",
       "price                 0\n",
       "vehicle_type          0\n",
       "registration_year     0\n",
       "gearbox               0\n",
       "power                 0\n",
       "model                 0\n",
       "kilometer             0\n",
       "registration_month    0\n",
       "fuel_type             0\n",
       "brand                 0\n",
       "repaired              0\n",
       "date_created          0\n",
       "number_of_pictures    0\n",
       "postal_code           0\n",
       "last_seen             0\n",
       "dtype: int64"
      ]
     },
     "execution_count": 21,
     "metadata": {},
     "output_type": "execute_result"
    }
   ],
   "source": [
    "df.isna().sum()"
   ]
  },
  {
   "cell_type": "markdown",
   "metadata": {},
   "source": [
    "#### Валидация значений"
   ]
  },
  {
   "cell_type": "markdown",
   "metadata": {},
   "source": [
    "Проверим корректность и необходимость предоставленных данных в два этапа. Во-первых уточним данные всех колонок и, в случае необходимости, уберем лишние. Во-вторых проведем первичную проверку корректности внесенных данных в оставшихся колокнах."
   ]
  },
  {
   "cell_type": "code",
   "execution_count": 22,
   "metadata": {},
   "outputs": [
    {
     "data": {
      "text/plain": [
       "Index(['date_crawled', 'price', 'vehicle_type', 'registration_year', 'gearbox',\n",
       "       'power', 'model', 'kilometer', 'registration_month', 'fuel_type',\n",
       "       'brand', 'repaired', 'date_created', 'number_of_pictures',\n",
       "       'postal_code', 'last_seen'],\n",
       "      dtype='object')"
      ]
     },
     "execution_count": 22,
     "metadata": {},
     "output_type": "execute_result"
    }
   ],
   "source": [
    "df.columns"
   ]
  },
  {
   "cell_type": "markdown",
   "metadata": {},
   "source": [
    "Из представленных колонок для обучения модели не потребуются данные о количестве картинок, индексе, активности пользователя, месяце регистрации автомобиля, дате скачивания анкеты из базы, дате создания анкеты. Удалим их."
   ]
  },
  {
   "cell_type": "code",
   "execution_count": 23,
   "metadata": {},
   "outputs": [
    {
     "name": "stdout",
     "output_type": "stream",
     "text": [
      "<class 'pandas.core.frame.DataFrame'>\n",
      "Int64Index: 352128 entries, 0 to 354368\n",
      "Data columns (total 10 columns):\n",
      " #   Column             Non-Null Count   Dtype \n",
      "---  ------             --------------   ----- \n",
      " 0   price              352128 non-null  int64 \n",
      " 1   vehicle_type       352128 non-null  object\n",
      " 2   registration_year  352128 non-null  int64 \n",
      " 3   gearbox            352128 non-null  object\n",
      " 4   power              352128 non-null  int64 \n",
      " 5   model              352128 non-null  object\n",
      " 6   kilometer          352128 non-null  int64 \n",
      " 7   fuel_type          352128 non-null  object\n",
      " 8   brand              352128 non-null  object\n",
      " 9   repaired           352128 non-null  object\n",
      "dtypes: int64(4), object(6)\n",
      "memory usage: 29.6+ MB\n"
     ]
    }
   ],
   "source": [
    "df = df.drop(['date_crawled', 'registration_month', 'date_created', 'number_of_pictures', 'postal_code', 'last_seen',  ], axis=1)\n",
    "df.info()\n"
   ]
  },
  {
   "cell_type": "markdown",
   "metadata": {},
   "source": [
    "Теперь посмотрим на значения по колонкам."
   ]
  },
  {
   "cell_type": "code",
   "execution_count": 24,
   "metadata": {},
   "outputs": [
    {
     "data": {
      "image/png": "[encoded data removed]",
      "text/plain": [
       "<Figure size 432x288 with 1 Axes>"
      ]
     },
     "metadata": {
      "needs_background": "light"
     },
     "output_type": "display_data"
    }
   ],
   "source": [
    "df.boxplot('registration_year');"
   ]
  },
  {
   "cell_type": "markdown",
   "metadata": {},
   "source": [
    "Судя по первоначальным данным (колонка __last_seen__) данные предоставлены на 2016 год. Следовательно, все данные старше 2016 года некоректны, их следует исключить из выборки. Также вероятность появления эксклюзивных моделей, выпущенных ранее 2050 года, не велика и скорее исказит результат модели, чем поможет, поскольку задача - сделать модель, оценивающую общую ситуацию на рынке. Поэтому удалим и их."
   ]
  },
  {
   "cell_type": "code",
   "execution_count": 25,
   "metadata": {},
   "outputs": [],
   "source": [
    "df = df.loc[(df['registration_year'] <= 2016) & (df['registration_year'] >= 1950)]"
   ]
  },
  {
   "cell_type": "code",
   "execution_count": 26,
   "metadata": {},
   "outputs": [
    {
     "data": {
      "image/png": "[encoded data removed]",
      "text/plain": [
       "<Figure size 432x288 with 1 Axes>"
      ]
     },
     "metadata": {
      "needs_background": "light"
     },
     "output_type": "display_data"
    }
   ],
   "source": [
    "df.boxplot('registration_year');"
   ]
  },
  {
   "cell_type": "code",
   "execution_count": 27,
   "metadata": {
    "scrolled": true
   },
   "outputs": [
    {
     "data": {
      "image/png": "[encoded data removed]",
      "text/plain": [
       "<Figure size 432x288 with 1 Axes>"
      ]
     },
     "metadata": {
      "needs_background": "light"
     },
     "output_type": "display_data"
    }
   ],
   "source": [
    "df.boxplot('power');"
   ]
  },
  {
   "cell_type": "markdown",
   "metadata": {},
   "source": [
    "Если посмотреть на представленные на рынке стенды для замера мощности дивигателей, то понятно, что даже для самых мощных автомобилей расчет идет на мощность до 1500 л/с. При этом средняя мощность автомобилей в России по данным Росстата составляет 120 л/с. Также удалим аномалии, ограничив мощность 800 л/с."
   ]
  },
  {
   "cell_type": "code",
   "execution_count": 28,
   "metadata": {},
   "outputs": [],
   "source": [
    "df = df.loc[df['power'] <= 800]"
   ]
  },
  {
   "cell_type": "markdown",
   "metadata": {},
   "source": [
    "Нулевые значения заполним медианными данными."
   ]
  },
  {
   "cell_type": "code",
   "execution_count": 29,
   "metadata": {},
   "outputs": [],
   "source": [
    "df['power'] = df['power'].replace(0, df['power'].median())"
   ]
  },
  {
   "cell_type": "code",
   "execution_count": 30,
   "metadata": {
    "scrolled": true
   },
   "outputs": [
    {
     "data": {
      "image/png": "[encoded data removed]",
      "text/plain": [
       "<Figure size 432x288 with 1 Axes>"
      ]
     },
     "metadata": {
      "needs_background": "light"
     },
     "output_type": "display_data"
    }
   ],
   "source": [
    "df.boxplot('power');"
   ]
  },
  {
   "cell_type": "code",
   "execution_count": 31,
   "metadata": {
    "scrolled": true
   },
   "outputs": [
    {
     "data": {
      "text/plain": [
       "<AxesSubplot:>"
      ]
     },
     "execution_count": 31,
     "metadata": {},
     "output_type": "execute_result"
    },
    {
     "data": {
      "image/png": "[encoded data removed]",
      "text/plain": [
       "<Figure size 432x288 with 1 Axes>"
      ]
     },
     "metadata": {
      "needs_background": "light"
     },
     "output_type": "display_data"
    }
   ],
   "source": [
    "df.power.hist()"
   ]
  },
  {
   "cell_type": "code",
   "execution_count": 32,
   "metadata": {},
   "outputs": [
    {
     "data": {
      "text/plain": [
       "<AxesSubplot:>"
      ]
     },
     "execution_count": 32,
     "metadata": {},
     "output_type": "execute_result"
    },
    {
     "data": {
      "image/png": "[encoded data removed]",
      "text/plain": [
       "<Figure size 432x288 with 1 Axes>"
      ]
     },
     "metadata": {
      "needs_background": "light"
     },
     "output_type": "display_data"
    }
   ],
   "source": [
    "df.price.hist()"
   ]
  },
  {
   "cell_type": "code",
   "execution_count": 33,
   "metadata": {
    "scrolled": true
   },
   "outputs": [
    {
     "data": {
      "text/plain": [
       "0       9276\n",
       "500     5393\n",
       "1500    5054\n",
       "1200    4299\n",
       "1000    4284\n",
       "        ... \n",
       "3651       1\n",
       "4782       1\n",
       "6575       1\n",
       "1858       1\n",
       "8188       1\n",
       "Name: price, Length: 3687, dtype: int64"
      ]
     },
     "execution_count": 33,
     "metadata": {},
     "output_type": "execute_result"
    }
   ],
   "source": [
    "df.price.value_counts()"
   ]
  },
  {
   "cell_type": "markdown",
   "metadata": {},
   "source": [
    "Нулевые значения восстановить не представляется возможным, но их достаточно немного. Удалим их."
   ]
  },
  {
   "cell_type": "code",
   "execution_count": 34,
   "metadata": {},
   "outputs": [],
   "source": [
    "df = df.loc[df['price'] > 0]"
   ]
  },
  {
   "cell_type": "markdown",
   "metadata": {},
   "source": [
    "Также в конце обновим индексы в табилце."
   ]
  },
  {
   "cell_type": "code",
   "execution_count": 35,
   "metadata": {},
   "outputs": [],
   "source": [
    "df = df.reset_index(drop=True)"
   ]
  },
  {
   "cell_type": "code",
   "execution_count": 36,
   "metadata": {},
   "outputs": [
    {
     "data": {
      "text/html": [
       "<div>\n",
       "<style scoped>\n",
       "    .dataframe tbody tr th:only-of-type {\n",
       "        vertical-align: middle;\n",
       "    }\n",
       "\n",
       "    .dataframe tbody tr th {\n",
       "        vertical-align: top;\n",
       "    }\n",
       "\n",
       "    .dataframe thead th {\n",
       "        text-align: right;\n",
       "    }\n",
       "</style>\n",
       "<table border=\"1\" class=\"dataframe\">\n",
       "  <thead>\n",
       "    <tr style=\"text-align: right;\">\n",
       "      <th></th>\n",
       "      <th>price</th>\n",
       "      <th>vehicle_type</th>\n",
       "      <th>registration_year</th>\n",
       "      <th>gearbox</th>\n",
       "      <th>power</th>\n",
       "      <th>model</th>\n",
       "      <th>kilometer</th>\n",
       "      <th>fuel_type</th>\n",
       "      <th>brand</th>\n",
       "      <th>repaired</th>\n",
       "    </tr>\n",
       "  </thead>\n",
       "  <tbody>\n",
       "    <tr>\n",
       "      <th>0</th>\n",
       "      <td>480</td>\n",
       "      <td>other</td>\n",
       "      <td>1993</td>\n",
       "      <td>manual</td>\n",
       "      <td>105.0</td>\n",
       "      <td>golf</td>\n",
       "      <td>150000</td>\n",
       "      <td>petrol</td>\n",
       "      <td>volkswagen</td>\n",
       "      <td>unknown</td>\n",
       "    </tr>\n",
       "    <tr>\n",
       "      <th>1</th>\n",
       "      <td>18300</td>\n",
       "      <td>coupe</td>\n",
       "      <td>2011</td>\n",
       "      <td>manual</td>\n",
       "      <td>190.0</td>\n",
       "      <td>other</td>\n",
       "      <td>125000</td>\n",
       "      <td>petrol</td>\n",
       "      <td>audi</td>\n",
       "      <td>yes</td>\n",
       "    </tr>\n",
       "    <tr>\n",
       "      <th>2</th>\n",
       "      <td>9800</td>\n",
       "      <td>suv</td>\n",
       "      <td>2004</td>\n",
       "      <td>auto</td>\n",
       "      <td>163.0</td>\n",
       "      <td>grand</td>\n",
       "      <td>125000</td>\n",
       "      <td>petrol</td>\n",
       "      <td>jeep</td>\n",
       "      <td>unknown</td>\n",
       "    </tr>\n",
       "    <tr>\n",
       "      <th>3</th>\n",
       "      <td>1500</td>\n",
       "      <td>small</td>\n",
       "      <td>2001</td>\n",
       "      <td>manual</td>\n",
       "      <td>75.0</td>\n",
       "      <td>golf</td>\n",
       "      <td>150000</td>\n",
       "      <td>petrol</td>\n",
       "      <td>volkswagen</td>\n",
       "      <td>no</td>\n",
       "    </tr>\n",
       "    <tr>\n",
       "      <th>4</th>\n",
       "      <td>3600</td>\n",
       "      <td>small</td>\n",
       "      <td>2008</td>\n",
       "      <td>manual</td>\n",
       "      <td>69.0</td>\n",
       "      <td>fabia</td>\n",
       "      <td>90000</td>\n",
       "      <td>petrol</td>\n",
       "      <td>skoda</td>\n",
       "      <td>no</td>\n",
       "    </tr>\n",
       "    <tr>\n",
       "      <th>5</th>\n",
       "      <td>650</td>\n",
       "      <td>sedan</td>\n",
       "      <td>1995</td>\n",
       "      <td>manual</td>\n",
       "      <td>102.0</td>\n",
       "      <td>3er</td>\n",
       "      <td>150000</td>\n",
       "      <td>petrol</td>\n",
       "      <td>bmw</td>\n",
       "      <td>yes</td>\n",
       "    </tr>\n",
       "    <tr>\n",
       "      <th>6</th>\n",
       "      <td>2200</td>\n",
       "      <td>convertible</td>\n",
       "      <td>2004</td>\n",
       "      <td>manual</td>\n",
       "      <td>109.0</td>\n",
       "      <td>2_reihe</td>\n",
       "      <td>150000</td>\n",
       "      <td>petrol</td>\n",
       "      <td>peugeot</td>\n",
       "      <td>no</td>\n",
       "    </tr>\n",
       "    <tr>\n",
       "      <th>7</th>\n",
       "      <td>14500</td>\n",
       "      <td>bus</td>\n",
       "      <td>2014</td>\n",
       "      <td>manual</td>\n",
       "      <td>125.0</td>\n",
       "      <td>c_max</td>\n",
       "      <td>30000</td>\n",
       "      <td>petrol</td>\n",
       "      <td>ford</td>\n",
       "      <td>unknown</td>\n",
       "    </tr>\n",
       "    <tr>\n",
       "      <th>8</th>\n",
       "      <td>999</td>\n",
       "      <td>small</td>\n",
       "      <td>1998</td>\n",
       "      <td>manual</td>\n",
       "      <td>101.0</td>\n",
       "      <td>golf</td>\n",
       "      <td>150000</td>\n",
       "      <td>other</td>\n",
       "      <td>volkswagen</td>\n",
       "      <td>unknown</td>\n",
       "    </tr>\n",
       "    <tr>\n",
       "      <th>9</th>\n",
       "      <td>2000</td>\n",
       "      <td>sedan</td>\n",
       "      <td>2004</td>\n",
       "      <td>manual</td>\n",
       "      <td>105.0</td>\n",
       "      <td>3_reihe</td>\n",
       "      <td>150000</td>\n",
       "      <td>petrol</td>\n",
       "      <td>mazda</td>\n",
       "      <td>no</td>\n",
       "    </tr>\n",
       "  </tbody>\n",
       "</table>\n",
       "</div>"
      ],
      "text/plain": [
       "   price vehicle_type  registration_year gearbox  power    model  kilometer  \\\n",
       "0    480        other               1993  manual  105.0     golf     150000   \n",
       "1  18300        coupe               2011  manual  190.0    other     125000   \n",
       "2   9800          suv               2004    auto  163.0    grand     125000   \n",
       "3   1500        small               2001  manual   75.0     golf     150000   \n",
       "4   3600        small               2008  manual   69.0    fabia      90000   \n",
       "5    650        sedan               1995  manual  102.0      3er     150000   \n",
       "6   2200  convertible               2004  manual  109.0  2_reihe     150000   \n",
       "7  14500          bus               2014  manual  125.0    c_max      30000   \n",
       "8    999        small               1998  manual  101.0     golf     150000   \n",
       "9   2000        sedan               2004  manual  105.0  3_reihe     150000   \n",
       "\n",
       "  fuel_type       brand repaired  \n",
       "0    petrol  volkswagen  unknown  \n",
       "1    petrol        audi      yes  \n",
       "2    petrol        jeep  unknown  \n",
       "3    petrol  volkswagen       no  \n",
       "4    petrol       skoda       no  \n",
       "5    petrol         bmw      yes  \n",
       "6    petrol     peugeot       no  \n",
       "7    petrol        ford  unknown  \n",
       "8     other  volkswagen  unknown  \n",
       "9    petrol       mazda       no  "
      ]
     },
     "execution_count": 36,
     "metadata": {},
     "output_type": "execute_result"
    }
   ],
   "source": [
    "df.head(10)"
   ]
  },
  {
   "cell_type": "code",
   "execution_count": 37,
   "metadata": {},
   "outputs": [
    {
     "name": "stdout",
     "output_type": "stream",
     "text": [
      "<class 'pandas.core.frame.DataFrame'>\n",
      "RangeIndex: 328009 entries, 0 to 328008\n",
      "Data columns (total 10 columns):\n",
      " #   Column             Non-Null Count   Dtype  \n",
      "---  ------             --------------   -----  \n",
      " 0   price              328009 non-null  int64  \n",
      " 1   vehicle_type       328009 non-null  object \n",
      " 2   registration_year  328009 non-null  int64  \n",
      " 3   gearbox            328009 non-null  object \n",
      " 4   power              328009 non-null  float64\n",
      " 5   model              328009 non-null  object \n",
      " 6   kilometer          328009 non-null  int64  \n",
      " 7   fuel_type          328009 non-null  object \n",
      " 8   brand              328009 non-null  object \n",
      " 9   repaired           328009 non-null  object \n",
      "dtypes: float64(1), int64(3), object(6)\n",
      "memory usage: 25.0+ MB\n"
     ]
    }
   ],
   "source": [
    "df.info()"
   ]
  },
  {
   "cell_type": "markdown",
   "metadata": {},
   "source": [
    "__Вывод:__ Мы провели предобработку данных. Были удалены дубликаты, заполнены пропуски, а также проведена обработка выбросов. В итоге мы удалили примерно 7,5% данных, что является допустимыми потерями. "
   ]
  },
  {
   "cell_type": "markdown",
   "metadata": {},
   "source": [
    "## Обучение моделей"
   ]
  },
  {
   "cell_type": "markdown",
   "metadata": {},
   "source": [
    "В качестве моделей выберем следующие:\n",
    "* Модель линейной регрессии\n",
    "* Модель дерева решений\n",
    "* Модель случайного леса\n",
    "* LightGBM\n",
    "\n",
    "Разделим выборки на тренировочные и тестовые, а затем для работы с ними выделим целевой признак и остальные признаки, а также закодируем наши данные. Применим кодировки OHE и OrdinalEncoding"
   ]
  },
  {
   "cell_type": "code",
   "execution_count": 38,
   "metadata": {},
   "outputs": [],
   "source": [
    "target = df['price']\n",
    "features_orig = df.drop('price', axis=1)\n",
    "\n",
    "features_train, features_test, target_train, target_test = train_test_split(\n",
    "    features_orig, target, test_size=0.25, random_state=12345)"
   ]
  },
  {
   "cell_type": "code",
   "execution_count": 39,
   "metadata": {},
   "outputs": [],
   "source": [
    "features_train_ohe = pd.get_dummies(features_train, drop_first=True)\n",
    "features_test_ohe = pd.get_dummies(features_test, drop_first=True)\n",
    "\n",
    "common_columns = set(features_train_ohe.columns) & set(features_test_ohe.columns)\n",
    "\n",
    "features_train_ohe = features_train_ohe[list(common_columns)]\n",
    "features_test_ohe = features_test_ohe[list(common_columns)]\n",
    "\n",
    "\n",
    "encoder = OrdinalEncoder(handle_unknown='use_encoded_value', unknown_value=9999)\n",
    "cat_columns = ['vehicle_type', 'gearbox', 'fuel_type', 'brand', 'model', 'repaired']\n",
    "encoder.fit(features_train[cat_columns])\n",
    "\n",
    "features_train_ord = features_train.copy()\n",
    "features_test_ord = features_test.copy()\n",
    "\n",
    "features_train_ord[cat_columns] = encoder.transform(features_train_ord[cat_columns])\n",
    "features_test_ord[cat_columns] = encoder.transform(features_test_ord[cat_columns])"
   ]
  },
  {
   "cell_type": "markdown",
   "metadata": {},
   "source": [
    "```python\n",
    "# порядковое кодирование\n",
    "encoder = OrdinalEncoder(handle_unknown='use_encoded_value', unknown_value=9999)\n",
    "cat_columns = [список всех категориальных признаков]\n",
    "encoder.fit(features_train[cat_columns])\n",
    "\n",
    "features_train_ord = features_train.copy()\n",
    "features_valid_ord = features_valid.copy()\n",
    "features_test_ord = features_test.copy()\n",
    "\n",
    "features_train_ord[cat_columns] = encoder.transform(features_train_ord[cat_columns])\n",
    "features_valid_ord[cat_columns] = encoder.transform(features_valid_ord[cat_columns])\n",
    "features_test_ord[cat_columns] = encoder.transform(features_test_ord[cat_columns])\n",
    "```"
   ]
  },
  {
   "cell_type": "markdown",
   "metadata": {},
   "source": [
    "### Линейная регрессия"
   ]
  },
  {
   "cell_type": "code",
   "execution_count": 40,
   "metadata": {},
   "outputs": [
    {
     "data": {
      "text/plain": [
       "2691.9593828017746"
      ]
     },
     "metadata": {},
     "output_type": "display_data"
    },
    {
     "name": "stdout",
     "output_type": "stream",
     "text": [
      "CPU times: user 32.4 s, sys: 41.5 s, total: 1min 13s\n",
      "Wall time: 1min 13s\n"
     ]
    }
   ],
   "source": [
    "%%time\n",
    "\n",
    "model = LinearRegression()\n",
    "model.fit(features_train_ohe, target_train)\n",
    "predictions_train_ohe = model.predict(features_train_ohe)\n",
    "rmse_lr = mean_squared_error(target_train, predictions_train_ohe)**0.5\n",
    "display(rmse_lr)"
   ]
  },
  {
   "cell_type": "markdown",
   "metadata": {},
   "source": [
    "### Модель решающего дерева"
   ]
  },
  {
   "cell_type": "code",
   "execution_count": 41,
   "metadata": {
    "scrolled": false
   },
   "outputs": [
    {
     "name": "stdout",
     "output_type": "stream",
     "text": [
      "Fitting 3 folds for each of 6 candidates, totalling 18 fits\n"
     ]
    },
    {
     "name": "stderr",
     "output_type": "stream",
     "text": [
      "/opt/conda/lib/python3.9/site-packages/sklearn/model_selection/_search.py:285: UserWarning: The total space of parameters 6 is smaller than n_iter=10. Running 6 iterations. For exhaustive searches, use GridSearchCV.\n",
      "  warnings.warn(\n"
     ]
    },
    {
     "name": "stdout",
     "output_type": "stream",
     "text": [
      "[CV 1/3] END ....................................max_depth=3; total time=   0.2s\n",
      "[CV 2/3] END ....................................max_depth=3; total time=   0.2s\n",
      "[CV 3/3] END ....................................max_depth=3; total time=   0.1s\n",
      "[CV 1/3] END ....................................max_depth=6; total time=   0.3s\n",
      "[CV 2/3] END ....................................max_depth=6; total time=   0.3s\n",
      "[CV 3/3] END ....................................max_depth=6; total time=   0.3s\n",
      "[CV 1/3] END ....................................max_depth=9; total time=   0.4s\n",
      "[CV 2/3] END ....................................max_depth=9; total time=   0.4s\n",
      "[CV 3/3] END ....................................max_depth=9; total time=   0.4s\n",
      "[CV 1/3] END ...................................max_depth=12; total time=   0.5s\n",
      "[CV 2/3] END ...................................max_depth=12; total time=   0.6s\n",
      "[CV 3/3] END ...................................max_depth=12; total time=   0.5s\n",
      "[CV 1/3] END ...................................max_depth=15; total time=   0.6s\n",
      "[CV 2/3] END ...................................max_depth=15; total time=   0.5s\n",
      "[CV 3/3] END ...................................max_depth=15; total time=   0.6s\n",
      "[CV 1/3] END ...................................max_depth=18; total time=   0.6s\n",
      "[CV 2/3] END ...................................max_depth=18; total time=   0.6s\n",
      "[CV 3/3] END ...................................max_depth=18; total time=   0.7s\n"
     ]
    },
    {
     "data": {
      "text/plain": [
       "{'max_depth': 12}"
      ]
     },
     "metadata": {},
     "output_type": "display_data"
    },
    {
     "data": {
      "text/plain": [
       "1964.7261400001262"
      ]
     },
     "metadata": {},
     "output_type": "display_data"
    },
    {
     "name": "stdout",
     "output_type": "stream",
     "text": [
      "CPU times: user 8.49 s, sys: 0 ns, total: 8.49 s\n",
      "Wall time: 8.59 s\n"
     ]
    }
   ],
   "source": [
    "%%time\n",
    "\n",
    "model = DecisionTreeRegressor(random_state=12345)\n",
    "param_grid = {'max_depth': [n for n in range(3, 19, 3)]}\n",
    "\n",
    "tuning_model=RandomizedSearchCV(model, param_grid, scoring='neg_root_mean_squared_error', cv=3, verbose=3)\n",
    "\n",
    "tuning_model.fit(features_train_ord, target_train)\n",
    "display(tuning_model.best_params_)\n",
    "display(tuning_model.best_score_*-1)"
   ]
  },
  {
   "cell_type": "markdown",
   "metadata": {},
   "source": [
    "### Модель случайного леса"
   ]
  },
  {
   "cell_type": "code",
   "execution_count": 42,
   "metadata": {},
   "outputs": [
    {
     "name": "stdout",
     "output_type": "stream",
     "text": [
      "Fitting 3 folds for each of 3 candidates, totalling 9 fits\n"
     ]
    },
    {
     "name": "stderr",
     "output_type": "stream",
     "text": [
      "/opt/conda/lib/python3.9/site-packages/sklearn/model_selection/_search.py:285: UserWarning: The total space of parameters 3 is smaller than n_iter=10. Running 3 iterations. For exhaustive searches, use GridSearchCV.\n",
      "  warnings.warn(\n"
     ]
    },
    {
     "name": "stdout",
     "output_type": "stream",
     "text": [
      "[CV 1/3] END .................max_depth=12, n_estimators=100; total time=  32.3s\n",
      "[CV 2/3] END .................max_depth=12, n_estimators=100; total time=  31.1s\n",
      "[CV 3/3] END .................max_depth=12, n_estimators=100; total time=  33.1s\n",
      "[CV 1/3] END .................max_depth=12, n_estimators=150; total time=  47.8s\n",
      "[CV 2/3] END .................max_depth=12, n_estimators=150; total time=  53.0s\n",
      "[CV 3/3] END .................max_depth=12, n_estimators=150; total time=  54.0s\n",
      "[CV 1/3] END .................max_depth=12, n_estimators=200; total time= 1.2min\n",
      "[CV 2/3] END .................max_depth=12, n_estimators=200; total time= 1.3min\n",
      "[CV 3/3] END .................max_depth=12, n_estimators=200; total time= 1.2min\n"
     ]
    },
    {
     "data": {
      "text/plain": [
       "{'n_estimators': 200, 'max_depth': 12}"
      ]
     },
     "metadata": {},
     "output_type": "display_data"
    },
    {
     "data": {
      "text/plain": [
       "1803.9429030437434"
      ]
     },
     "metadata": {},
     "output_type": "display_data"
    },
    {
     "name": "stdout",
     "output_type": "stream",
     "text": [
      "CPU times: user 9min 17s, sys: 480 ms, total: 9min 18s\n",
      "Wall time: 9min 27s\n"
     ]
    }
   ],
   "source": [
    "%%time\n",
    "\n",
    "model = RandomForestRegressor(random_state=12345)\n",
    "param_grid = {'max_depth': [12], 'n_estimators': [100, 150, 200]}\n",
    "\n",
    "tuning_model=RandomizedSearchCV(model, param_grid, scoring='neg_root_mean_squared_error', cv=3, verbose=3)\n",
    "\n",
    "tuning_model.fit(features_train_ord, target_train)\n",
    "display(tuning_model.best_params_)\n",
    "display(tuning_model.best_score_*-1)\n"
   ]
  },
  {
   "cell_type": "markdown",
   "metadata": {},
   "source": [
    "### LightGBM"
   ]
  },
  {
   "cell_type": "markdown",
   "metadata": {},
   "source": [
    "Запустим модель в двух вариантах - без указания гиперпараметров и с подбором гиперпараметров"
   ]
  },
  {
   "cell_type": "code",
   "execution_count": 43,
   "metadata": {},
   "outputs": [
    {
     "data": {
      "text/plain": [
       "1710.71601323363"
      ]
     },
     "metadata": {},
     "output_type": "display_data"
    },
    {
     "name": "stdout",
     "output_type": "stream",
     "text": [
      "CPU times: user 6min 42s, sys: 4.08 s, total: 6min 46s\n",
      "Wall time: 6min 48s\n"
     ]
    }
   ],
   "source": [
    "%%time\n",
    "\n",
    "model = lgb.LGBMRegressor(random_state=12345)\n",
    "model.fit(features_train_ord, target_train)\n",
    "predictions_train = model.predict(features_train_ord)\n",
    "rmse = mean_squared_error(target_train, predictions_train)**0.5\n",
    "display(rmse)"
   ]
  },
  {
   "cell_type": "code",
   "execution_count": 44,
   "metadata": {},
   "outputs": [
    {
     "name": "stdout",
     "output_type": "stream",
     "text": [
      "Fitting 3 folds for each of 9 candidates, totalling 27 fits\n"
     ]
    },
    {
     "name": "stderr",
     "output_type": "stream",
     "text": [
      "/opt/conda/lib/python3.9/site-packages/sklearn/model_selection/_search.py:285: UserWarning: The total space of parameters 9 is smaller than n_iter=10. Running 9 iterations. For exhaustive searches, use GridSearchCV.\n",
      "  warnings.warn(\n"
     ]
    },
    {
     "name": "stdout",
     "output_type": "stream",
     "text": [
      "[CV 1/3] END ...............learning_rate=0.1, num_leaves=60; total time= 9.8min\n",
      "[CV 2/3] END ...............learning_rate=0.1, num_leaves=60; total time= 8.2min\n",
      "[CV 1/3] END ..............learning_rate=0.1, num_leaves=120; total time= 2.1min\n",
      "[CV 2/3] END ..............learning_rate=0.1, num_leaves=120; total time= 8.8min\n",
      "[CV 3/3] END ..............learning_rate=0.1, num_leaves=120; total time=24.6min\n",
      "[CV 1/3] END ..............learning_rate=0.1, num_leaves=180; total time=21.4min\n",
      "[CV 2/3] END ..............learning_rate=0.1, num_leaves=180; total time= 2.0min\n",
      "[CV 3/3] END ..............learning_rate=0.1, num_leaves=180; total time= 2.4min\n",
      "[CV 1/3] END ...............learning_rate=0.3, num_leaves=60; total time= 3.8min\n",
      "[CV 2/3] END ...............learning_rate=0.3, num_leaves=60; total time= 3.0min\n",
      "[CV 3/3] END ...............learning_rate=0.3, num_leaves=60; total time= 1.1min\n",
      "[CV 1/3] END ..............learning_rate=0.3, num_leaves=120; total time= 2.4min\n",
      "[CV 2/3] END ..............learning_rate=0.3, num_leaves=120; total time= 4.0min\n",
      "[CV 3/3] END ..............learning_rate=0.3, num_leaves=120; total time= 2.1min\n",
      "[CV 1/3] END ..............learning_rate=0.3, num_leaves=180; total time=  36.1s\n",
      "[CV 2/3] END ..............learning_rate=0.3, num_leaves=180; total time=  13.5s\n",
      "[CV 3/3] END ..............learning_rate=0.3, num_leaves=180; total time=  17.0s\n",
      "[CV 1/3] END ...............learning_rate=0.5, num_leaves=60; total time=   6.1s\n",
      "[CV 2/3] END ...............learning_rate=0.5, num_leaves=60; total time=   8.2s\n",
      "[CV 3/3] END ...............learning_rate=0.5, num_leaves=60; total time=   6.4s\n",
      "[CV 1/3] END ..............learning_rate=0.5, num_leaves=120; total time=   8.1s\n",
      "[CV 2/3] END ..............learning_rate=0.5, num_leaves=120; total time=   9.8s\n",
      "[CV 3/3] END ..............learning_rate=0.5, num_leaves=120; total time=  13.1s\n",
      "[CV 1/3] END ..............learning_rate=0.5, num_leaves=180; total time=  12.4s\n",
      "[CV 2/3] END ..............learning_rate=0.5, num_leaves=180; total time=  11.7s\n",
      "[CV 3/3] END ..............learning_rate=0.5, num_leaves=180; total time=  14.2s\n"
     ]
    },
    {
     "data": {
      "text/plain": [
       "{'num_leaves': 180, 'learning_rate': 0.3}"
      ]
     },
     "metadata": {},
     "output_type": "display_data"
    },
    {
     "data": {
      "text/plain": [
       "1610.6082841497057"
      ]
     },
     "metadata": {},
     "output_type": "display_data"
    },
    {
     "name": "stdout",
     "output_type": "stream",
     "text": [
      "CPU times: user 1h 38min 37s, sys: 45.2 s, total: 1h 39min 22s\n",
      "Wall time: 1h 39min 55s\n"
     ]
    }
   ],
   "source": [
    "%%time\n",
    "\n",
    "model = lgb.LGBMRegressor(random_state=12345)\n",
    "\n",
    "param_grid = {'num_leaves': [n for n in range(60, 181, 60)], 'learning_rate':[0.1, 0.3, 0.5]}\n",
    "\n",
    "tuning_model=RandomizedSearchCV(model, param_grid, scoring='neg_root_mean_squared_error', cv=3, verbose=3)\n",
    "\n",
    "tuning_model.fit(features_train_ord, target_train)\n",
    "display(tuning_model.best_params_)\n",
    "display(tuning_model.best_score_*-1)"
   ]
  },
  {
   "cell_type": "markdown",
   "metadata": {},
   "source": [
    "__Вывод:__ Было изучено 4 модели. Определены лучшие гиперпараметры и время выполнения."
   ]
  },
  {
   "cell_type": "markdown",
   "metadata": {},
   "source": [
    "## Анализ моделей"
   ]
  },
  {
   "cell_type": "markdown",
   "metadata": {},
   "source": [
    "Обучим каждую модель с лучшими гиперпараметрами."
   ]
  },
  {
   "cell_type": "markdown",
   "metadata": {},
   "source": [
    "### Линейная регрессия"
   ]
  },
  {
   "cell_type": "code",
   "execution_count": 45,
   "metadata": {},
   "outputs": [
    {
     "name": "stdout",
     "output_type": "stream",
     "text": [
      "CPU times: user 18.3 s, sys: 9.65 s, total: 27.9 s\n",
      "Wall time: 28 s\n"
     ]
    },
    {
     "data": {
      "text/plain": [
       "LinearRegression()"
      ]
     },
     "execution_count": 45,
     "metadata": {},
     "output_type": "execute_result"
    }
   ],
   "source": [
    "%%time\n",
    "\n",
    "model = LinearRegression()\n",
    "model.fit(features_train_ohe, target_train)"
   ]
  },
  {
   "cell_type": "code",
   "execution_count": 46,
   "metadata": {},
   "outputs": [
    {
     "name": "stdout",
     "output_type": "stream",
     "text": [
      "CPU times: user 209 ms, sys: 204 ms, total: 413 ms\n",
      "Wall time: 394 ms\n"
     ]
    }
   ],
   "source": [
    "%%time\n",
    "\n",
    "target_predict = model.predict(features_train_ohe)"
   ]
  },
  {
   "cell_type": "code",
   "execution_count": 47,
   "metadata": {},
   "outputs": [],
   "source": [
    "rmse_LR = mean_squared_error(target_train, target_predict) ** 0.5"
   ]
  },
  {
   "cell_type": "code",
   "execution_count": 48,
   "metadata": {},
   "outputs": [
    {
     "data": {
      "text/plain": [
       "2691.9593828017746"
      ]
     },
     "metadata": {},
     "output_type": "display_data"
    }
   ],
   "source": [
    "display(rmse_LR)"
   ]
  },
  {
   "cell_type": "markdown",
   "metadata": {},
   "source": [
    "### Модель решающего дерева"
   ]
  },
  {
   "cell_type": "code",
   "execution_count": 49,
   "metadata": {},
   "outputs": [
    {
     "name": "stdout",
     "output_type": "stream",
     "text": [
      "CPU times: user 651 ms, sys: 8.04 ms, total: 659 ms\n",
      "Wall time: 658 ms\n"
     ]
    },
    {
     "data": {
      "text/plain": [
       "DecisionTreeRegressor(max_depth=12, random_state=12345)"
      ]
     },
     "execution_count": 49,
     "metadata": {},
     "output_type": "execute_result"
    }
   ],
   "source": [
    "%%time\n",
    "model = DecisionTreeRegressor(random_state=12345, max_depth = 12)\n",
    "model.fit(features_train_ord, target_train)"
   ]
  },
  {
   "cell_type": "code",
   "execution_count": 50,
   "metadata": {},
   "outputs": [
    {
     "name": "stdout",
     "output_type": "stream",
     "text": [
      "CPU times: user 40.2 ms, sys: 80 µs, total: 40.3 ms\n",
      "Wall time: 38.6 ms\n"
     ]
    }
   ],
   "source": [
    "%%time\n",
    "target_predict = model.predict(features_train_ord)"
   ]
  },
  {
   "cell_type": "code",
   "execution_count": 51,
   "metadata": {},
   "outputs": [],
   "source": [
    "rmse_DT_18 = mean_squared_error(target_train, target_predict) ** 0.5"
   ]
  },
  {
   "cell_type": "code",
   "execution_count": 52,
   "metadata": {},
   "outputs": [
    {
     "data": {
      "text/plain": [
       "1750.5540949220929"
      ]
     },
     "metadata": {},
     "output_type": "display_data"
    }
   ],
   "source": [
    "display(rmse_DT_18)"
   ]
  },
  {
   "cell_type": "markdown",
   "metadata": {},
   "source": [
    "### Модель случайного леса"
   ]
  },
  {
   "cell_type": "code",
   "execution_count": 53,
   "metadata": {},
   "outputs": [
    {
     "name": "stdout",
     "output_type": "stream",
     "text": [
      "CPU times: user 1min 22s, sys: 387 ms, total: 1min 22s\n",
      "Wall time: 1min 22s\n"
     ]
    },
    {
     "data": {
      "text/plain": [
       "RandomForestRegressor(max_depth=12, n_estimators=200, random_state=12345)"
      ]
     },
     "execution_count": 53,
     "metadata": {},
     "output_type": "execute_result"
    }
   ],
   "source": [
    "%%time\n",
    "\n",
    "model = RandomForestRegressor(random_state=12345, n_estimators=200, max_depth=12)\n",
    "model.fit(features_train_ord, target_train)"
   ]
  },
  {
   "cell_type": "code",
   "execution_count": 54,
   "metadata": {},
   "outputs": [
    {
     "name": "stdout",
     "output_type": "stream",
     "text": [
      "CPU times: user 5.91 s, sys: 18.2 ms, total: 5.93 s\n",
      "Wall time: 5.94 s\n"
     ]
    }
   ],
   "source": [
    "%%time\n",
    "target_predict = model.predict(features_train_ord)"
   ]
  },
  {
   "cell_type": "code",
   "execution_count": 55,
   "metadata": {},
   "outputs": [],
   "source": [
    "rmse_RF = mean_squared_error(target_train, target_predict) ** 0.5"
   ]
  },
  {
   "cell_type": "code",
   "execution_count": 56,
   "metadata": {},
   "outputs": [
    {
     "data": {
      "text/plain": [
       "1649.122840290263"
      ]
     },
     "metadata": {},
     "output_type": "display_data"
    }
   ],
   "source": [
    "display(rmse_RF)"
   ]
  },
  {
   "cell_type": "markdown",
   "metadata": {},
   "source": [
    "### LightGBM"
   ]
  },
  {
   "cell_type": "code",
   "execution_count": 57,
   "metadata": {},
   "outputs": [
    {
     "name": "stdout",
     "output_type": "stream",
     "text": [
      "CPU times: user 13.7 s, sys: 84.8 ms, total: 13.8 s\n",
      "Wall time: 13.9 s\n"
     ]
    },
    {
     "data": {
      "text/plain": [
       "LGBMRegressor(learning_rate=0.3, num_leaves=180, random_state=12345)"
      ]
     },
     "execution_count": 57,
     "metadata": {},
     "output_type": "execute_result"
    }
   ],
   "source": [
    "%%time\n",
    "model = lgb.LGBMRegressor(learning_rate=0.3, num_leaves=180, random_state=12345)\n",
    "model.fit(features_train_ord, target_train)"
   ]
  },
  {
   "cell_type": "code",
   "execution_count": 58,
   "metadata": {},
   "outputs": [
    {
     "name": "stdout",
     "output_type": "stream",
     "text": [
      "CPU times: user 2.19 s, sys: 6.25 ms, total: 2.2 s\n",
      "Wall time: 2.2 s\n"
     ]
    }
   ],
   "source": [
    "%%time\n",
    "target_predict = model.predict(features_train_ord)"
   ]
  },
  {
   "cell_type": "code",
   "execution_count": 59,
   "metadata": {},
   "outputs": [],
   "source": [
    "rmse_LGBMR = mean_squared_error(target_train, target_predict) ** 0.5"
   ]
  },
  {
   "cell_type": "code",
   "execution_count": 60,
   "metadata": {},
   "outputs": [
    {
     "data": {
      "text/plain": [
       "1359.8479312555783"
      ]
     },
     "metadata": {},
     "output_type": "display_data"
    }
   ],
   "source": [
    "display(rmse_LGBMR)"
   ]
  },
  {
   "cell_type": "markdown",
   "metadata": {},
   "source": [
    "__Вывод:__ "
   ]
  },
  {
   "cell_type": "code",
   "execution_count": 62,
   "metadata": {},
   "outputs": [
    {
     "data": {
      "text/html": [
       "<div>\n",
       "<style scoped>\n",
       "    .dataframe tbody tr th:only-of-type {\n",
       "        vertical-align: middle;\n",
       "    }\n",
       "\n",
       "    .dataframe tbody tr th {\n",
       "        vertical-align: top;\n",
       "    }\n",
       "\n",
       "    .dataframe thead th {\n",
       "        text-align: right;\n",
       "    }\n",
       "</style>\n",
       "<table border=\"1\" class=\"dataframe\">\n",
       "  <thead>\n",
       "    <tr style=\"text-align: right;\">\n",
       "      <th></th>\n",
       "      <th>model</th>\n",
       "      <th>CPU-times learning</th>\n",
       "      <th>Wall time learning</th>\n",
       "      <th>CPU-times prediction</th>\n",
       "      <th>Wall time prediction</th>\n",
       "      <th>RMSE</th>\n",
       "    </tr>\n",
       "  </thead>\n",
       "  <tbody>\n",
       "    <tr>\n",
       "      <th>0</th>\n",
       "      <td>LinearRegression</td>\n",
       "      <td>27.9 s</td>\n",
       "      <td>28 s</td>\n",
       "      <td>413 ms</td>\n",
       "      <td>394 ms</td>\n",
       "      <td>2691.959383</td>\n",
       "    </tr>\n",
       "    <tr>\n",
       "      <th>1</th>\n",
       "      <td>DecisionTree</td>\n",
       "      <td>659 ms</td>\n",
       "      <td>658 ms</td>\n",
       "      <td>40.3 ms</td>\n",
       "      <td>38.6 ms</td>\n",
       "      <td>1750.554095</td>\n",
       "    </tr>\n",
       "    <tr>\n",
       "      <th>2</th>\n",
       "      <td>RandomForest</td>\n",
       "      <td>1min 22s</td>\n",
       "      <td>1min 22s</td>\n",
       "      <td>5.93 s</td>\n",
       "      <td>5.94 s</td>\n",
       "      <td>1649.122840</td>\n",
       "    </tr>\n",
       "    <tr>\n",
       "      <th>3</th>\n",
       "      <td>LightGBM</td>\n",
       "      <td>13.8 s</td>\n",
       "      <td>13.9 s</td>\n",
       "      <td>2.2 s</td>\n",
       "      <td>2.2 s</td>\n",
       "      <td>1359.847931</td>\n",
       "    </tr>\n",
       "  </tbody>\n",
       "</table>\n",
       "</div>"
      ],
      "text/plain": [
       "              model CPU-times learning Wall time learning  \\\n",
       "0  LinearRegression             27.9 s               28 s   \n",
       "1      DecisionTree             659 ms             658 ms   \n",
       "2      RandomForest           1min 22s           1min 22s   \n",
       "3          LightGBM             13.8 s             13.9 s   \n",
       "\n",
       "  CPU-times prediction Wall time prediction         RMSE  \n",
       "0               413 ms               394 ms  2691.959383  \n",
       "1              40.3 ms              38.6 ms  1750.554095  \n",
       "2               5.93 s               5.94 s  1649.122840  \n",
       "3                2.2 s                2.2 s  1359.847931  "
      ]
     },
     "execution_count": 62,
     "metadata": {},
     "output_type": "execute_result"
    }
   ],
   "source": [
    "models = pd.DataFrame({'model': \n",
    "                           ['LinearRegression', 'DecisionTree', 'RandomForest', 'LightGBM'],\n",
    "                           'CPU-times learning': ['27.9 s', '659 ms', '1min 22s', '13.8 s'],\n",
    "                           'Wall time learning': ['28 s', '658 ms', '1min 22s', '13.9 s'],\n",
    "                           'CPU-times prediction': ['413 ms', '40.3 ms', '5.93 s', '2.2 s'],\n",
    "                           'Wall time prediction': ['394 ms', '38.6 ms', '5.94 s', '2.2 s'],\n",
    "                           'RMSE': [rmse_LR, rmse_DT_18, rmse_RF, rmse_LGBMR]\n",
    "                          })\n",
    "models"
   ]
  },
  {
   "cell_type": "markdown",
   "metadata": {},
   "source": [
    "Лучшие результаты показывает модель LightGBM. Время обучения лучше только у модели Решающего дерева, но с заметной потерей качества результатов."
   ]
  },
  {
   "cell_type": "markdown",
   "metadata": {},
   "source": [
    "## Тестирование лучшей модели"
   ]
  },
  {
   "cell_type": "markdown",
   "metadata": {},
   "source": [
    "Проведем тестирование лучшей модели."
   ]
  },
  {
   "cell_type": "code",
   "execution_count": 63,
   "metadata": {},
   "outputs": [
    {
     "data": {
      "text/plain": [
       "1590.7893739323029"
      ]
     },
     "metadata": {},
     "output_type": "display_data"
    }
   ],
   "source": [
    "model = lgb.LGBMRegressor(learning_rate=0.3, num_leaves=120, random_state=12345)\n",
    "model.fit(features_train_ord, target_train)\n",
    "\n",
    "target_predict = model.predict(features_test_ord)\n",
    "\n",
    "rmse_LGBMR = mean_squared_error(target_test, target_predict) ** 0.5\n",
    "display(rmse_LGBMR)"
   ]
  },
  {
   "cell_type": "markdown",
   "metadata": {},
   "source": [
    "Результат модели на тестовых данных достаточно хороший. Модель можно рекомендовать заказчику."
   ]
  },
  {
   "cell_type": "markdown",
   "metadata": {},
   "source": [
    "## Общий вывод"
   ]
  },
  {
   "cell_type": "markdown",
   "metadata": {},
   "source": [
    "Для анализа были предоставлены данные с более 350 тыс. строк, размещенных в 16 столбцах. Названия столбцов были переведены в нижний регистры, были удалены дубликаты, проанализированны и исправлены пропуски данных, также удалены дубликаты.\n",
    "\n",
    "Для модели линейной регрессии категориальные значения столбцов были переведены в количественные. Для моделец решающего дерева и случайного леса применялось порядковое кодирование. Были обучены 4 разные модели. При подборе гиперпараметров выяснилось, что модель LightGBM дает лучшие значения rmse.\n",
    "\n",
    "При анализе поведения моделей было обнаружено, что модель LightGBM имеет приемлемую скорость обучения и предсказания и при этом самую низкую RMSE из всех моделей: на тестовой выборке результат 1590.78.\n",
    "\n",
    "По скорости обучения, придсказания и качества модели, модель LightGBM оказывается самой оптимальной и именно ее можно рекомендовать для дальнейшего использования."
   ]
  }
 ],
 "metadata": {
  "ExecuteTimeLog": [
   {
    "duration": 1297,
    "start_time": "2023-04-15T10:40:43.909Z"
   },
   {
    "duration": 1097,
    "start_time": "2023-04-15T10:44:11.950Z"
   },
   {
    "duration": 4755,
    "start_time": "2023-04-15T10:44:13.903Z"
   },
   {
    "duration": 442,
    "start_time": "2023-04-15T10:59:21.833Z"
   },
   {
    "duration": 542,
    "start_time": "2023-04-15T11:00:30.051Z"
   },
   {
    "duration": 126,
    "start_time": "2023-04-15T11:00:40.400Z"
   },
   {
    "duration": 225,
    "start_time": "2023-04-15T11:01:17.483Z"
   },
   {
    "duration": 31,
    "start_time": "2023-04-15T11:05:16.102Z"
   },
   {
    "duration": 15,
    "start_time": "2023-04-15T11:06:53.317Z"
   },
   {
    "duration": 104,
    "start_time": "2023-04-15T11:06:57.130Z"
   },
   {
    "duration": 3,
    "start_time": "2023-04-15T11:10:25.951Z"
   },
   {
    "duration": 745,
    "start_time": "2023-04-15T11:10:28.103Z"
   },
   {
    "duration": 4484,
    "start_time": "2023-04-15T11:10:29.402Z"
   },
   {
    "duration": 113,
    "start_time": "2023-04-15T11:10:39.881Z"
   },
   {
    "duration": 738,
    "start_time": "2023-04-15T11:10:52.400Z"
   },
   {
    "duration": 115,
    "start_time": "2023-04-15T11:10:55.584Z"
   },
   {
    "duration": 834,
    "start_time": "2023-04-15T11:11:21.267Z"
   },
   {
    "duration": 111,
    "start_time": "2023-04-15T11:11:24.401Z"
   },
   {
    "duration": 397,
    "start_time": "2023-04-15T11:11:42.549Z"
   },
   {
    "duration": 418,
    "start_time": "2023-04-15T11:11:44.333Z"
   },
   {
    "duration": 97,
    "start_time": "2023-04-15T11:11:45.716Z"
   },
   {
    "duration": 109,
    "start_time": "2023-04-15T11:11:47.417Z"
   },
   {
    "duration": 99,
    "start_time": "2023-04-15T11:11:51.983Z"
   },
   {
    "duration": 29,
    "start_time": "2023-04-15T11:11:55.566Z"
   },
   {
    "duration": 30,
    "start_time": "2023-04-15T11:12:08.283Z"
   },
   {
    "duration": 30,
    "start_time": "2023-04-15T11:13:03.400Z"
   },
   {
    "duration": 29,
    "start_time": "2023-04-15T11:13:24.465Z"
   },
   {
    "duration": 29,
    "start_time": "2023-04-15T11:13:48.452Z"
   },
   {
    "duration": 8,
    "start_time": "2023-04-15T11:16:38.033Z"
   },
   {
    "duration": 18,
    "start_time": "2023-04-15T11:16:48.499Z"
   },
   {
    "duration": 18,
    "start_time": "2023-04-15T11:22:21.416Z"
   },
   {
    "duration": 17,
    "start_time": "2023-04-15T11:23:47.998Z"
   },
   {
    "duration": 8,
    "start_time": "2023-04-15T11:32:02.949Z"
   },
   {
    "duration": 709,
    "start_time": "2023-04-15T11:32:17.581Z"
   },
   {
    "duration": 121,
    "start_time": "2023-04-15T11:32:23.196Z"
   },
   {
    "duration": 36,
    "start_time": "2023-04-15T11:32:27.529Z"
   },
   {
    "duration": 72,
    "start_time": "2023-04-15T11:32:44.098Z"
   },
   {
    "duration": 85,
    "start_time": "2023-04-15T11:32:47.868Z"
   },
   {
    "duration": 15,
    "start_time": "2023-04-15T11:32:49.664Z"
   },
   {
    "duration": 74,
    "start_time": "2023-04-15T11:32:54.231Z"
   },
   {
    "duration": 753,
    "start_time": "2023-04-15T11:33:01.961Z"
   },
   {
    "duration": 105,
    "start_time": "2023-04-15T11:33:05.314Z"
   },
   {
    "duration": 116,
    "start_time": "2023-04-15T11:33:08.548Z"
   },
   {
    "duration": 169,
    "start_time": "2023-04-15T11:33:19.631Z"
   },
   {
    "duration": 781,
    "start_time": "2023-04-15T11:33:53.902Z"
   },
   {
    "duration": 109,
    "start_time": "2023-04-15T11:33:58.080Z"
   },
   {
    "duration": 398,
    "start_time": "2023-04-15T11:34:34.314Z"
   },
   {
    "duration": 437,
    "start_time": "2023-04-15T11:34:37.164Z"
   },
   {
    "duration": 105,
    "start_time": "2023-04-15T11:34:38.400Z"
   },
   {
    "duration": 107,
    "start_time": "2023-04-15T11:34:40.883Z"
   },
   {
    "duration": 1393,
    "start_time": "2023-04-15T11:39:21.579Z"
   },
   {
    "duration": 65,
    "start_time": "2023-04-15T11:39:42.348Z"
   },
   {
    "duration": 60,
    "start_time": "2023-04-15T11:39:57.230Z"
   },
   {
    "duration": 61,
    "start_time": "2023-04-15T11:40:04.930Z"
   },
   {
    "duration": 74,
    "start_time": "2023-04-15T11:40:10.827Z"
   },
   {
    "duration": 62,
    "start_time": "2023-04-15T11:40:22.700Z"
   },
   {
    "duration": 13,
    "start_time": "2023-04-15T11:44:12.784Z"
   },
   {
    "duration": 98,
    "start_time": "2023-04-15T11:44:18.029Z"
   },
   {
    "duration": 89,
    "start_time": "2023-04-15T11:44:26.751Z"
   },
   {
    "duration": 786,
    "start_time": "2023-04-15T11:44:44.303Z"
   },
   {
    "duration": 124,
    "start_time": "2023-04-15T11:44:51.514Z"
   },
   {
    "duration": 396,
    "start_time": "2023-04-15T11:44:54.928Z"
   },
   {
    "duration": 425,
    "start_time": "2023-04-15T11:44:57.244Z"
   },
   {
    "duration": 104,
    "start_time": "2023-04-15T11:44:58.428Z"
   },
   {
    "duration": 115,
    "start_time": "2023-04-15T11:45:00.052Z"
   },
   {
    "duration": 67,
    "start_time": "2023-04-15T11:45:03.445Z"
   },
   {
    "duration": 122,
    "start_time": "2023-04-15T11:45:19.692Z"
   },
   {
    "duration": 83,
    "start_time": "2023-04-15T11:45:20.748Z"
   },
   {
    "duration": 24,
    "start_time": "2023-04-15T11:46:08.428Z"
   },
   {
    "duration": 84,
    "start_time": "2023-04-15T11:46:15.177Z"
   },
   {
    "duration": 732,
    "start_time": "2023-04-15T11:46:22.878Z"
   },
   {
    "duration": 4736,
    "start_time": "2023-04-15T11:46:23.662Z"
   },
   {
    "duration": 142,
    "start_time": "2023-04-15T11:46:28.512Z"
   },
   {
    "duration": 450,
    "start_time": "2023-04-15T11:46:31.329Z"
   },
   {
    "duration": 516,
    "start_time": "2023-04-15T11:46:35.281Z"
   },
   {
    "duration": 122,
    "start_time": "2023-04-15T11:46:36.552Z"
   },
   {
    "duration": 134,
    "start_time": "2023-04-15T11:46:38.879Z"
   },
   {
    "duration": 70,
    "start_time": "2023-04-15T11:46:42.878Z"
   },
   {
    "duration": 129,
    "start_time": "2023-04-15T11:46:49.107Z"
   },
   {
    "duration": 125,
    "start_time": "2023-04-15T11:46:50.130Z"
   },
   {
    "duration": 103,
    "start_time": "2023-04-15T11:47:01.828Z"
   },
   {
    "duration": 96,
    "start_time": "2023-04-15T11:47:02.548Z"
   },
   {
    "duration": 739,
    "start_time": "2023-04-15T11:48:58.402Z"
   },
   {
    "duration": 132,
    "start_time": "2023-04-15T11:49:02.313Z"
   },
   {
    "duration": 455,
    "start_time": "2023-04-15T11:49:04.847Z"
   },
   {
    "duration": 534,
    "start_time": "2023-04-15T11:49:07.660Z"
   },
   {
    "duration": 136,
    "start_time": "2023-04-15T11:49:08.205Z"
   },
   {
    "duration": 139,
    "start_time": "2023-04-15T11:49:09.301Z"
   },
   {
    "duration": 81,
    "start_time": "2023-04-15T11:49:13.813Z"
   },
   {
    "duration": 138,
    "start_time": "2023-04-15T11:49:16.645Z"
   },
   {
    "duration": 142,
    "start_time": "2023-04-15T11:49:17.530Z"
   },
   {
    "duration": 31,
    "start_time": "2023-04-15T11:49:52.229Z"
   },
   {
    "duration": 18,
    "start_time": "2023-04-15T11:49:54.327Z"
   },
   {
    "duration": 30,
    "start_time": "2023-04-15T11:49:54.928Z"
   },
   {
    "duration": 18,
    "start_time": "2023-04-15T11:49:56.448Z"
   },
   {
    "duration": 33,
    "start_time": "2023-04-15T11:49:57.111Z"
   },
   {
    "duration": 28,
    "start_time": "2023-04-15T11:49:57.727Z"
   },
   {
    "duration": 25,
    "start_time": "2023-04-15T11:50:24.281Z"
   },
   {
    "duration": 17,
    "start_time": "2023-04-15T11:50:31.929Z"
   },
   {
    "duration": 38,
    "start_time": "2023-04-15T11:50:38.866Z"
   },
   {
    "duration": 21,
    "start_time": "2023-04-15T11:51:42.262Z"
   },
   {
    "duration": 128,
    "start_time": "2023-04-15T11:51:58.576Z"
   },
   {
    "duration": 1900,
    "start_time": "2023-04-28T16:02:28.944Z"
   },
   {
    "duration": 2938,
    "start_time": "2023-04-28T16:02:39.765Z"
   },
   {
    "duration": 4956,
    "start_time": "2023-04-28T16:02:47.649Z"
   },
   {
    "duration": 118,
    "start_time": "2023-04-28T16:03:12.549Z"
   },
   {
    "duration": 47,
    "start_time": "2023-04-29T17:13:21.359Z"
   },
   {
    "duration": 1586,
    "start_time": "2023-04-29T17:13:35.232Z"
   },
   {
    "duration": 2870,
    "start_time": "2023-04-29T17:13:38.530Z"
   },
   {
    "duration": 4691,
    "start_time": "2023-04-29T17:13:41.402Z"
   },
   {
    "duration": 140,
    "start_time": "2023-04-29T17:13:46.095Z"
   },
   {
    "duration": 464,
    "start_time": "2023-04-29T17:13:51.877Z"
   },
   {
    "duration": 478,
    "start_time": "2023-04-29T17:13:55.978Z"
   },
   {
    "duration": 124,
    "start_time": "2023-04-29T17:13:57.109Z"
   },
   {
    "duration": 165,
    "start_time": "2023-04-29T17:14:04.225Z"
   },
   {
    "duration": 78,
    "start_time": "2023-04-29T17:14:45.401Z"
   },
   {
    "duration": 149,
    "start_time": "2023-04-29T17:15:00.593Z"
   },
   {
    "duration": 136,
    "start_time": "2023-04-29T17:15:02.041Z"
   },
   {
    "duration": 128,
    "start_time": "2023-04-29T17:15:35.511Z"
   },
   {
    "duration": 161,
    "start_time": "2023-04-29T17:16:58.897Z"
   },
   {
    "duration": 44,
    "start_time": "2023-04-29T17:17:38.985Z"
   },
   {
    "duration": 23,
    "start_time": "2023-04-29T17:17:48.777Z"
   },
   {
    "duration": 36,
    "start_time": "2023-04-29T17:17:53.471Z"
   },
   {
    "duration": 26,
    "start_time": "2023-04-29T17:18:09.001Z"
   },
   {
    "duration": 34,
    "start_time": "2023-04-29T17:18:15.529Z"
   },
   {
    "duration": 52,
    "start_time": "2023-04-29T17:21:29.888Z"
   },
   {
    "duration": 34,
    "start_time": "2023-04-29T17:21:36.738Z"
   },
   {
    "duration": 33,
    "start_time": "2023-04-29T17:21:47.326Z"
   },
   {
    "duration": 20,
    "start_time": "2023-04-29T17:21:56.488Z"
   },
   {
    "duration": 32,
    "start_time": "2023-04-29T17:21:59.538Z"
   },
   {
    "duration": 21,
    "start_time": "2023-04-29T17:22:03.721Z"
   },
   {
    "duration": 132,
    "start_time": "2023-04-29T17:22:05.281Z"
   },
   {
    "duration": 114,
    "start_time": "2023-04-29T17:23:03.609Z"
   },
   {
    "duration": 128,
    "start_time": "2023-04-29T17:23:06.486Z"
   },
   {
    "duration": 4,
    "start_time": "2023-04-29T17:29:04.525Z"
   },
   {
    "duration": 121,
    "start_time": "2023-04-29T17:35:48.629Z"
   },
   {
    "duration": 3195,
    "start_time": "2023-04-29T17:38:08.038Z"
   },
   {
    "duration": 3360,
    "start_time": "2023-04-29T17:38:39.614Z"
   },
   {
    "duration": 183,
    "start_time": "2023-04-29T17:39:51.437Z"
   },
   {
    "duration": 195,
    "start_time": "2023-04-29T17:40:01.197Z"
   },
   {
    "duration": 12,
    "start_time": "2023-04-29T17:41:51.436Z"
   },
   {
    "duration": 572,
    "start_time": "2023-04-29T17:42:08.065Z"
   },
   {
    "duration": 34,
    "start_time": "2023-04-29T17:49:25.489Z"
   },
   {
    "duration": 492,
    "start_time": "2023-04-29T17:49:32.389Z"
   },
   {
    "duration": 383,
    "start_time": "2023-04-29T17:51:20.834Z"
   },
   {
    "duration": 169,
    "start_time": "2023-04-29T17:52:09.619Z"
   },
   {
    "duration": 28,
    "start_time": "2023-04-29T17:56:08.385Z"
   },
   {
    "duration": 234,
    "start_time": "2023-04-29T17:56:09.189Z"
   },
   {
    "duration": 82,
    "start_time": "2023-04-29T17:57:40.135Z"
   },
   {
    "duration": 157,
    "start_time": "2023-04-29T17:57:45.776Z"
   },
   {
    "duration": 489,
    "start_time": "2023-04-29T17:58:04.335Z"
   },
   {
    "duration": 33,
    "start_time": "2023-04-29T18:01:15.190Z"
   },
   {
    "duration": 12,
    "start_time": "2023-04-29T18:01:18.325Z"
   },
   {
    "duration": 522,
    "start_time": "2023-04-29T18:01:18.865Z"
   },
   {
    "duration": 169,
    "start_time": "2023-04-29T18:01:34.027Z"
   },
   {
    "duration": 187,
    "start_time": "2023-04-29T18:02:36.734Z"
   },
   {
    "duration": 10,
    "start_time": "2023-04-29T18:02:51.803Z"
   },
   {
    "duration": 36,
    "start_time": "2023-04-29T18:05:04.781Z"
   },
   {
    "duration": 14,
    "start_time": "2023-04-29T18:06:55.357Z"
   },
   {
    "duration": 14,
    "start_time": "2023-04-29T18:07:12.181Z"
   },
   {
    "duration": 91,
    "start_time": "2023-04-29T18:07:34.936Z"
   },
   {
    "duration": 357,
    "start_time": "2023-04-29T18:28:41.129Z"
   },
   {
    "duration": 408,
    "start_time": "2023-04-29T18:29:31.094Z"
   },
   {
    "duration": 1244,
    "start_time": "2023-04-29T18:29:55.083Z"
   },
   {
    "duration": 115,
    "start_time": "2023-04-29T18:36:02.824Z"
   },
   {
    "duration": 613,
    "start_time": "2023-04-29T18:36:41.377Z"
   },
   {
    "duration": 11,
    "start_time": "2023-04-29T18:40:25.163Z"
   },
   {
    "duration": 59634,
    "start_time": "2023-04-29T18:42:54.617Z"
   },
   {
    "duration": 50218,
    "start_time": "2023-04-29T18:44:12.935Z"
   },
   {
    "duration": 126,
    "start_time": "2023-04-29T18:51:28.195Z"
   },
   {
    "duration": 141,
    "start_time": "2023-04-29T18:51:44.166Z"
   },
   {
    "duration": 19604,
    "start_time": "2023-04-29T18:51:54.400Z"
   },
   {
    "duration": 286,
    "start_time": "2023-04-29T18:53:49.683Z"
   },
   {
    "duration": 1708,
    "start_time": "2023-04-29T18:55:37.131Z"
   },
   {
    "duration": 595,
    "start_time": "2023-04-29T18:55:41.279Z"
   },
   {
    "duration": 53738,
    "start_time": "2023-04-29T18:55:43.878Z"
   },
   {
    "duration": 5230,
    "start_time": "2023-04-29T18:56:37.625Z"
   },
   {
    "duration": 755437,
    "start_time": "2023-04-29T18:58:57.945Z"
   },
   {
    "duration": 3884,
    "start_time": "2023-04-29T19:11:33.384Z"
   },
   {
    "duration": 11,
    "start_time": "2023-04-29T19:11:48.428Z"
   },
   {
    "duration": 162,
    "start_time": "2023-04-29T19:13:05.537Z"
   },
   {
    "duration": 141,
    "start_time": "2023-04-29T19:13:38.188Z"
   },
   {
    "duration": 414540,
    "start_time": "2023-04-29T19:14:44.040Z"
   },
   {
    "duration": 6,
    "start_time": "2023-04-29T19:21:38.582Z"
   },
   {
    "duration": 121,
    "start_time": "2023-04-30T08:33:40.222Z"
   },
   {
    "duration": 1594,
    "start_time": "2023-04-30T08:33:58.601Z"
   },
   {
    "duration": 2882,
    "start_time": "2023-04-30T08:34:00.197Z"
   },
   {
    "duration": 4616,
    "start_time": "2023-04-30T08:34:03.081Z"
   },
   {
    "duration": 114,
    "start_time": "2023-04-30T08:34:07.698Z"
   },
   {
    "duration": 437,
    "start_time": "2023-04-30T08:34:07.814Z"
   },
   {
    "duration": 455,
    "start_time": "2023-04-30T08:34:08.252Z"
   },
   {
    "duration": 102,
    "start_time": "2023-04-30T08:34:08.708Z"
   },
   {
    "duration": 144,
    "start_time": "2023-04-30T08:34:08.812Z"
   },
   {
    "duration": 76,
    "start_time": "2023-04-30T08:34:08.957Z"
   },
   {
    "duration": 125,
    "start_time": "2023-04-30T08:34:09.034Z"
   },
   {
    "duration": 34,
    "start_time": "2023-04-30T08:34:09.161Z"
   },
   {
    "duration": 20,
    "start_time": "2023-04-30T08:34:09.197Z"
   },
   {
    "duration": 41,
    "start_time": "2023-04-30T08:34:09.219Z"
   },
   {
    "duration": 35,
    "start_time": "2023-04-30T08:34:09.263Z"
   },
   {
    "duration": 31,
    "start_time": "2023-04-30T08:34:09.299Z"
   },
   {
    "duration": 49,
    "start_time": "2023-04-30T08:34:09.331Z"
   },
   {
    "duration": 30,
    "start_time": "2023-04-30T08:34:09.392Z"
   },
   {
    "duration": 17,
    "start_time": "2023-04-30T08:34:09.424Z"
   },
   {
    "duration": 51,
    "start_time": "2023-04-30T08:34:09.443Z"
   },
   {
    "duration": 20,
    "start_time": "2023-04-30T08:34:09.496Z"
   },
   {
    "duration": 114,
    "start_time": "2023-04-30T08:34:09.518Z"
   },
   {
    "duration": 4,
    "start_time": "2023-04-30T08:34:09.634Z"
   },
   {
    "duration": 113,
    "start_time": "2023-04-30T08:34:09.640Z"
   },
   {
    "duration": 353,
    "start_time": "2023-04-30T08:34:09.755Z"
   },
   {
    "duration": 31,
    "start_time": "2023-04-30T08:34:10.109Z"
   },
   {
    "duration": 362,
    "start_time": "2023-04-30T08:34:10.142Z"
   },
   {
    "duration": 300,
    "start_time": "2023-04-30T08:34:10.506Z"
   },
   {
    "duration": 23,
    "start_time": "2023-04-30T08:34:10.807Z"
   },
   {
    "duration": 80,
    "start_time": "2023-04-30T08:34:10.832Z"
   },
   {
    "duration": 360,
    "start_time": "2023-04-30T08:34:10.914Z"
   },
   {
    "duration": 166,
    "start_time": "2023-04-30T08:34:11.275Z"
   },
   {
    "duration": 272,
    "start_time": "2023-04-30T08:34:11.442Z"
   },
   {
    "duration": 8,
    "start_time": "2023-04-30T08:34:11.716Z"
   },
   {
    "duration": 21,
    "start_time": "2023-04-30T08:34:11.726Z"
   },
   {
    "duration": 14,
    "start_time": "2023-04-30T08:34:11.748Z"
   },
   {
    "duration": 39,
    "start_time": "2023-04-30T08:34:11.764Z"
   },
   {
    "duration": 94,
    "start_time": "2023-04-30T08:34:11.805Z"
   },
   {
    "duration": 1248,
    "start_time": "2023-04-30T08:34:11.901Z"
   },
   {
    "duration": 505,
    "start_time": "2023-04-30T08:34:13.150Z"
   },
   {
    "duration": 24237,
    "start_time": "2023-04-30T08:34:13.657Z"
   },
   {
    "duration": 2973,
    "start_time": "2023-04-30T08:34:37.898Z"
   },
   {
    "duration": 494501,
    "start_time": "2023-04-30T08:34:40.873Z"
   },
   {
    "duration": 2275,
    "start_time": "2023-04-30T08:42:55.375Z"
   },
   {
    "duration": 4,
    "start_time": "2023-04-30T08:42:57.653Z"
   },
   {
    "duration": 2646,
    "start_time": "2023-04-30T08:46:45.338Z"
   },
   {
    "duration": 3,
    "start_time": "2023-04-30T08:46:52.652Z"
   },
   {
    "duration": 94,
    "start_time": "2023-04-30T08:46:52.656Z"
   },
   {
    "duration": 53109,
    "start_time": "2023-04-30T08:47:14.511Z"
   },
   {
    "duration": 3,
    "start_time": "2023-04-30T08:48:07.622Z"
   },
   {
    "duration": 104,
    "start_time": "2023-04-30T08:48:07.694Z"
   },
   {
    "duration": 4,
    "start_time": "2023-04-30T08:52:23.114Z"
   },
   {
    "duration": 72957,
    "start_time": "2023-04-30T08:52:24.835Z"
   },
   {
    "duration": 3,
    "start_time": "2023-04-30T08:53:39.808Z"
   },
   {
    "duration": 12503,
    "start_time": "2023-04-30T08:53:42.410Z"
   },
   {
    "duration": 4,
    "start_time": "2023-04-30T08:54:07.502Z"
   },
   {
    "duration": 951940,
    "start_time": "2023-04-30T08:54:09.122Z"
   },
   {
    "duration": 3,
    "start_time": "2023-04-30T09:10:01.782Z"
   },
   {
    "duration": 46653,
    "start_time": "2023-04-30T09:10:12.011Z"
   },
   {
    "duration": 1550,
    "start_time": "2023-04-30T09:11:01.402Z"
   },
   {
    "duration": 851,
    "start_time": "2023-04-30T09:11:02.953Z"
   },
   {
    "duration": 5210,
    "start_time": "2023-04-30T09:11:03.812Z"
   },
   {
    "duration": 129,
    "start_time": "2023-04-30T09:11:09.024Z"
   },
   {
    "duration": 484,
    "start_time": "2023-04-30T09:11:09.155Z"
   },
   {
    "duration": 499,
    "start_time": "2023-04-30T09:11:09.641Z"
   },
   {
    "duration": 120,
    "start_time": "2023-04-30T09:11:10.142Z"
   },
   {
    "duration": 187,
    "start_time": "2023-04-30T09:11:10.263Z"
   },
   {
    "duration": 88,
    "start_time": "2023-04-30T09:11:10.451Z"
   },
   {
    "duration": 131,
    "start_time": "2023-04-30T09:11:10.542Z"
   },
   {
    "duration": 44,
    "start_time": "2023-04-30T09:11:10.675Z"
   },
   {
    "duration": 17,
    "start_time": "2023-04-30T09:11:10.721Z"
   },
   {
    "duration": 31,
    "start_time": "2023-04-30T09:11:10.740Z"
   },
   {
    "duration": 36,
    "start_time": "2023-04-30T09:11:10.772Z"
   },
   {
    "duration": 42,
    "start_time": "2023-04-30T09:11:10.809Z"
   },
   {
    "duration": 56,
    "start_time": "2023-04-30T09:11:10.852Z"
   },
   {
    "duration": 32,
    "start_time": "2023-04-30T09:11:10.915Z"
   },
   {
    "duration": 18,
    "start_time": "2023-04-30T09:11:10.948Z"
   },
   {
    "duration": 49,
    "start_time": "2023-04-30T09:11:10.968Z"
   },
   {
    "duration": 23,
    "start_time": "2023-04-30T09:11:11.018Z"
   },
   {
    "duration": 117,
    "start_time": "2023-04-30T09:11:11.042Z"
   },
   {
    "duration": 5,
    "start_time": "2023-04-30T09:11:11.160Z"
   },
   {
    "duration": 142,
    "start_time": "2023-04-30T09:11:11.166Z"
   },
   {
    "duration": 425,
    "start_time": "2023-04-30T09:11:11.312Z"
   },
   {
    "duration": 33,
    "start_time": "2023-04-30T09:11:11.739Z"
   },
   {
    "duration": 465,
    "start_time": "2023-04-30T09:11:11.775Z"
   },
   {
    "duration": 371,
    "start_time": "2023-04-30T09:11:12.242Z"
   },
   {
    "duration": 25,
    "start_time": "2023-04-30T09:11:12.621Z"
   },
   {
    "duration": 81,
    "start_time": "2023-04-30T09:11:12.648Z"
   },
   {
    "duration": 394,
    "start_time": "2023-04-30T09:11:12.731Z"
   },
   {
    "duration": 200,
    "start_time": "2023-04-30T09:11:13.126Z"
   },
   {
    "duration": 293,
    "start_time": "2023-04-30T09:11:13.328Z"
   },
   {
    "duration": 9,
    "start_time": "2023-04-30T09:11:13.622Z"
   },
   {
    "duration": 22,
    "start_time": "2023-04-30T09:11:13.633Z"
   },
   {
    "duration": 13,
    "start_time": "2023-04-30T09:11:13.657Z"
   },
   {
    "duration": 47,
    "start_time": "2023-04-30T09:11:13.671Z"
   },
   {
    "duration": 84,
    "start_time": "2023-04-30T09:11:13.720Z"
   },
   {
    "duration": 1347,
    "start_time": "2023-04-30T09:11:13.810Z"
   },
   {
    "duration": 550,
    "start_time": "2023-04-30T09:11:15.158Z"
   },
   {
    "duration": 66691,
    "start_time": "2023-04-30T09:11:15.710Z"
   },
   {
    "duration": 3345,
    "start_time": "2023-04-30T09:12:22.403Z"
   },
   {
    "duration": 78579,
    "start_time": "2023-04-30T09:12:25.750Z"
   },
   {
    "duration": 3421,
    "start_time": "2023-04-30T09:13:44.331Z"
   },
   {
    "duration": 3,
    "start_time": "2023-04-30T09:13:47.754Z"
   },
   {
    "duration": 1583,
    "start_time": "2023-04-30T09:22:13.777Z"
   },
   {
    "duration": 857,
    "start_time": "2023-04-30T09:22:15.362Z"
   },
   {
    "duration": 5165,
    "start_time": "2023-04-30T09:22:16.224Z"
   },
   {
    "duration": 139,
    "start_time": "2023-04-30T09:22:21.391Z"
   },
   {
    "duration": 503,
    "start_time": "2023-04-30T09:22:21.532Z"
   },
   {
    "duration": 527,
    "start_time": "2023-04-30T09:22:22.038Z"
   },
   {
    "duration": 123,
    "start_time": "2023-04-30T09:22:22.566Z"
   },
   {
    "duration": 176,
    "start_time": "2023-04-30T09:22:22.691Z"
   },
   {
    "duration": 85,
    "start_time": "2023-04-30T09:22:22.869Z"
   },
   {
    "duration": 133,
    "start_time": "2023-04-30T09:22:22.956Z"
   },
   {
    "duration": 47,
    "start_time": "2023-04-30T09:22:23.091Z"
   },
   {
    "duration": 19,
    "start_time": "2023-04-30T09:22:23.141Z"
   },
   {
    "duration": 71,
    "start_time": "2023-04-30T09:22:23.162Z"
   },
   {
    "duration": 16,
    "start_time": "2023-04-30T09:22:23.237Z"
   },
   {
    "duration": 45,
    "start_time": "2023-04-30T09:22:23.255Z"
   },
   {
    "duration": 59,
    "start_time": "2023-04-30T09:22:23.306Z"
   },
   {
    "duration": 40,
    "start_time": "2023-04-30T09:22:23.367Z"
   },
   {
    "duration": 25,
    "start_time": "2023-04-30T09:22:23.413Z"
   },
   {
    "duration": 75,
    "start_time": "2023-04-30T09:22:23.440Z"
   },
   {
    "duration": 27,
    "start_time": "2023-04-30T09:22:23.521Z"
   },
   {
    "duration": 122,
    "start_time": "2023-04-30T09:22:23.550Z"
   },
   {
    "duration": 6,
    "start_time": "2023-04-30T09:22:23.673Z"
   },
   {
    "duration": 127,
    "start_time": "2023-04-30T09:22:23.680Z"
   },
   {
    "duration": 429,
    "start_time": "2023-04-30T09:22:23.809Z"
   },
   {
    "duration": 30,
    "start_time": "2023-04-30T09:22:24.240Z"
   },
   {
    "duration": 403,
    "start_time": "2023-04-30T09:22:24.272Z"
   },
   {
    "duration": 357,
    "start_time": "2023-04-30T09:22:24.676Z"
   },
   {
    "duration": 22,
    "start_time": "2023-04-30T09:22:25.035Z"
   },
   {
    "duration": 101,
    "start_time": "2023-04-30T09:22:25.059Z"
   },
   {
    "duration": 474,
    "start_time": "2023-04-30T09:22:25.162Z"
   },
   {
    "duration": 190,
    "start_time": "2023-04-30T09:22:25.638Z"
   },
   {
    "duration": 306,
    "start_time": "2023-04-30T09:22:25.830Z"
   },
   {
    "duration": 13,
    "start_time": "2023-04-30T09:22:26.138Z"
   },
   {
    "duration": 43,
    "start_time": "2023-04-30T09:22:26.153Z"
   },
   {
    "duration": 17,
    "start_time": "2023-04-30T09:22:26.198Z"
   },
   {
    "duration": 19,
    "start_time": "2023-04-30T09:22:26.217Z"
   },
   {
    "duration": 96,
    "start_time": "2023-04-30T09:22:26.238Z"
   },
   {
    "duration": 1437,
    "start_time": "2023-04-30T09:22:26.336Z"
   },
   {
    "duration": 568,
    "start_time": "2023-04-30T09:22:27.775Z"
   },
   {
    "duration": 91359,
    "start_time": "2023-04-30T09:22:28.344Z"
   },
   {
    "duration": 3496,
    "start_time": "2023-04-30T09:23:59.710Z"
   },
   {
    "duration": 157307,
    "start_time": "2023-04-30T09:24:03.212Z"
   },
   {
    "duration": 392086,
    "start_time": "2023-04-30T09:26:40.520Z"
   },
   {
    "duration": 6,
    "start_time": "2023-04-30T09:33:12.608Z"
   },
   {
    "duration": 33,
    "start_time": "2023-05-01T07:46:14.032Z"
   },
   {
    "duration": 211,
    "start_time": "2023-05-01T07:46:21.270Z"
   },
   {
    "duration": 2156,
    "start_time": "2023-05-01T07:47:20.810Z"
   },
   {
    "duration": 4872,
    "start_time": "2023-05-01T07:47:22.969Z"
   },
   {
    "duration": 7370,
    "start_time": "2023-05-01T07:47:27.843Z"
   },
   {
    "duration": 288,
    "start_time": "2023-05-01T07:47:35.215Z"
   },
   {
    "duration": 738,
    "start_time": "2023-05-01T07:47:35.506Z"
   },
   {
    "duration": 711,
    "start_time": "2023-05-01T07:47:36.247Z"
   },
   {
    "duration": 229,
    "start_time": "2023-05-01T07:47:36.960Z"
   },
   {
    "duration": 274,
    "start_time": "2023-05-01T07:47:37.196Z"
   },
   {
    "duration": 175,
    "start_time": "2023-05-01T07:47:37.472Z"
   },
   {
    "duration": 201,
    "start_time": "2023-05-01T07:47:37.650Z"
   },
   {
    "duration": 43,
    "start_time": "2023-05-01T07:47:37.854Z"
   },
   {
    "duration": 40,
    "start_time": "2023-05-01T07:47:37.899Z"
   },
   {
    "duration": 48,
    "start_time": "2023-05-01T07:47:37.941Z"
   },
   {
    "duration": 63,
    "start_time": "2023-05-01T07:47:37.991Z"
   },
   {
    "duration": 47,
    "start_time": "2023-05-01T07:47:38.057Z"
   },
   {
    "duration": 87,
    "start_time": "2023-05-01T07:47:38.108Z"
   },
   {
    "duration": 86,
    "start_time": "2023-05-01T07:47:38.200Z"
   },
   {
    "duration": 42,
    "start_time": "2023-05-01T07:47:38.293Z"
   },
   {
    "duration": 59,
    "start_time": "2023-05-01T07:47:38.341Z"
   },
   {
    "duration": 43,
    "start_time": "2023-05-01T07:47:38.406Z"
   },
   {
    "duration": 227,
    "start_time": "2023-05-01T07:47:38.456Z"
   },
   {
    "duration": 32,
    "start_time": "2023-05-01T07:47:38.685Z"
   },
   {
    "duration": 180,
    "start_time": "2023-05-01T07:47:38.720Z"
   },
   {
    "duration": 692,
    "start_time": "2023-05-01T07:47:38.906Z"
   },
   {
    "duration": 78,
    "start_time": "2023-05-01T07:47:39.605Z"
   },
   {
    "duration": 841,
    "start_time": "2023-05-01T07:47:39.685Z"
   },
   {
    "duration": 506,
    "start_time": "2023-05-01T07:47:40.532Z"
   },
   {
    "duration": 36,
    "start_time": "2023-05-01T07:47:41.042Z"
   },
   {
    "duration": 140,
    "start_time": "2023-05-01T07:47:41.092Z"
   },
   {
    "duration": 757,
    "start_time": "2023-05-01T07:47:41.235Z"
   },
   {
    "duration": 243,
    "start_time": "2023-05-01T07:47:42.002Z"
   },
   {
    "duration": 386,
    "start_time": "2023-05-01T07:47:42.247Z"
   },
   {
    "duration": 15,
    "start_time": "2023-05-01T07:47:42.636Z"
   },
   {
    "duration": 53,
    "start_time": "2023-05-01T07:47:42.653Z"
   },
   {
    "duration": 23,
    "start_time": "2023-05-01T07:47:42.716Z"
   },
   {
    "duration": 17,
    "start_time": "2023-05-01T07:47:42.750Z"
   },
   {
    "duration": 157,
    "start_time": "2023-05-01T07:47:42.769Z"
   },
   {
    "duration": 2117,
    "start_time": "2023-05-01T07:47:42.930Z"
   },
   {
    "duration": 680,
    "start_time": "2023-05-01T07:47:45.050Z"
   },
   {
    "duration": 64214,
    "start_time": "2023-05-01T07:47:45.732Z"
   },
   {
    "duration": 4964,
    "start_time": "2023-05-01T07:48:49.952Z"
   },
   {
    "duration": 212641,
    "start_time": "2023-05-01T07:48:54.918Z"
   },
   {
    "duration": 423197,
    "start_time": "2023-05-01T07:52:27.569Z"
   },
   {
    "duration": 4,
    "start_time": "2023-05-01T07:59:30.767Z"
   },
   {
    "duration": 5514942,
    "start_time": "2023-05-01T07:59:30.772Z"
   },
   {
    "duration": 8371904,
    "start_time": "2023-05-01T09:31:51.408Z"
   },
   {
    "duration": 43164,
    "start_time": "2023-05-01T11:51:59.437Z"
   },
   {
    "duration": 149,
    "start_time": "2023-05-01T11:53:08.942Z"
   },
   {
    "duration": 4,
    "start_time": "2023-05-01T11:53:10.627Z"
   },
   {
    "duration": 4,
    "start_time": "2023-05-01T11:53:34.691Z"
   },
   {
    "duration": 741,
    "start_time": "2023-05-01T11:53:42.359Z"
   },
   {
    "duration": 73,
    "start_time": "2023-05-01T11:53:44.226Z"
   },
   {
    "duration": 18,
    "start_time": "2023-05-01T11:54:00.504Z"
   },
   {
    "duration": 26,
    "start_time": "2023-05-01T11:54:46.323Z"
   },
   {
    "duration": 4,
    "start_time": "2023-05-01T11:54:51.292Z"
   },
   {
    "duration": 4,
    "start_time": "2023-05-01T11:54:53.426Z"
   },
   {
    "duration": 440,
    "start_time": "2023-05-01T11:56:07.409Z"
   },
   {
    "duration": 13,
    "start_time": "2023-05-01T11:56:13.576Z"
   },
   {
    "duration": 4,
    "start_time": "2023-05-01T11:56:15.142Z"
   },
   {
    "duration": 6,
    "start_time": "2023-05-01T11:56:26.659Z"
   },
   {
    "duration": 55333,
    "start_time": "2023-05-01T11:57:01.893Z"
   },
   {
    "duration": 1281,
    "start_time": "2023-05-01T11:58:00.084Z"
   },
   {
    "duration": 6,
    "start_time": "2023-05-01T11:58:04.023Z"
   },
   {
    "duration": 4,
    "start_time": "2023-05-01T11:58:05.179Z"
   },
   {
    "duration": 98,
    "start_time": "2023-05-01T11:58:14.991Z"
   },
   {
    "duration": 11284,
    "start_time": "2023-05-01T11:58:25.321Z"
   },
   {
    "duration": 601,
    "start_time": "2023-05-01T11:58:40.792Z"
   },
   {
    "duration": 3,
    "start_time": "2023-05-01T11:58:43.409Z"
   },
   {
    "duration": 9,
    "start_time": "2023-05-01T11:58:44.193Z"
   },
   {
    "duration": 3,
    "start_time": "2023-05-01T11:58:52.293Z"
   },
   {
    "duration": 11,
    "start_time": "2023-05-01T12:12:05.955Z"
   },
   {
    "duration": 14,
    "start_time": "2023-05-01T12:12:12.402Z"
   },
   {
    "duration": 10,
    "start_time": "2023-05-01T12:12:32.340Z"
   },
   {
    "duration": 13,
    "start_time": "2023-05-01T12:18:13.603Z"
   },
   {
    "duration": 1682,
    "start_time": "2023-05-02T09:08:59.682Z"
   },
   {
    "duration": 2856,
    "start_time": "2023-05-02T09:09:04.511Z"
   },
   {
    "duration": 4891,
    "start_time": "2023-05-02T09:09:07.369Z"
   },
   {
    "duration": 138,
    "start_time": "2023-05-02T09:09:15.575Z"
   },
   {
    "duration": 493,
    "start_time": "2023-05-02T09:09:18.717Z"
   },
   {
    "duration": 560,
    "start_time": "2023-05-02T09:09:20.870Z"
   },
   {
    "duration": 134,
    "start_time": "2023-05-02T09:09:23.034Z"
   },
   {
    "duration": 205,
    "start_time": "2023-05-02T09:09:25.442Z"
   },
   {
    "duration": 83,
    "start_time": "2023-05-02T09:09:28.372Z"
   },
   {
    "duration": 142,
    "start_time": "2023-05-02T09:09:31.211Z"
   },
   {
    "duration": 38,
    "start_time": "2023-05-02T09:09:32.275Z"
   },
   {
    "duration": 37,
    "start_time": "2023-05-02T09:09:34.923Z"
   },
   {
    "duration": 52,
    "start_time": "2023-05-02T09:09:35.823Z"
   },
   {
    "duration": 37,
    "start_time": "2023-05-02T09:09:38.533Z"
   },
   {
    "duration": 38,
    "start_time": "2023-05-02T09:09:40.244Z"
   },
   {
    "duration": 66,
    "start_time": "2023-05-02T09:09:43.015Z"
   },
   {
    "duration": 37,
    "start_time": "2023-05-02T09:09:43.676Z"
   },
   {
    "duration": 21,
    "start_time": "2023-05-02T09:09:46.168Z"
   },
   {
    "duration": 37,
    "start_time": "2023-05-02T09:09:46.671Z"
   },
   {
    "duration": 28,
    "start_time": "2023-05-02T09:09:49.164Z"
   },
   {
    "duration": 130,
    "start_time": "2023-05-02T09:09:49.941Z"
   },
   {
    "duration": 4,
    "start_time": "2023-05-02T09:09:56.011Z"
   },
   {
    "duration": 116,
    "start_time": "2023-05-02T09:09:58.260Z"
   },
   {
    "duration": 566,
    "start_time": "2023-05-02T09:10:10.727Z"
   },
   {
    "duration": 32,
    "start_time": "2023-05-02T09:10:14.874Z"
   },
   {
    "duration": 426,
    "start_time": "2023-05-02T09:10:15.561Z"
   },
   {
    "duration": 369,
    "start_time": "2023-05-02T09:10:18.516Z"
   },
   {
    "duration": 23,
    "start_time": "2023-05-02T09:10:20.874Z"
   },
   {
    "duration": 145,
    "start_time": "2023-05-02T09:10:23.141Z"
   },
   {
    "duration": 501,
    "start_time": "2023-05-02T09:10:25.144Z"
   },
   {
    "duration": 186,
    "start_time": "2023-05-02T09:10:28.509Z"
   },
   {
    "duration": 322,
    "start_time": "2023-05-02T09:10:31.223Z"
   },
   {
    "duration": 10,
    "start_time": "2023-05-02T09:10:33.911Z"
   },
   {
    "duration": 27,
    "start_time": "2023-05-02T09:10:39.340Z"
   },
   {
    "duration": 15,
    "start_time": "2023-05-02T09:10:41.724Z"
   },
   {
    "duration": 13,
    "start_time": "2023-05-02T09:10:42.743Z"
   },
   {
    "duration": 89,
    "start_time": "2023-05-02T09:10:45.028Z"
   },
   {
    "duration": 83,
    "start_time": "2023-05-02T09:19:08.426Z"
   },
   {
    "duration": 108,
    "start_time": "2023-05-02T09:19:10.379Z"
   },
   {
    "duration": 1896,
    "start_time": "2023-05-02T09:19:32.413Z"
   },
   {
    "duration": 1760,
    "start_time": "2023-05-02T09:20:01.322Z"
   },
   {
    "duration": 841,
    "start_time": "2023-05-02T09:20:04.242Z"
   },
   {
    "duration": 5066,
    "start_time": "2023-05-02T09:20:05.085Z"
   },
   {
    "duration": 141,
    "start_time": "2023-05-02T09:20:10.154Z"
   },
   {
    "duration": 461,
    "start_time": "2023-05-02T09:20:10.296Z"
   },
   {
    "duration": 491,
    "start_time": "2023-05-02T09:20:10.759Z"
   },
   {
    "duration": 131,
    "start_time": "2023-05-02T09:20:11.252Z"
   },
   {
    "duration": 197,
    "start_time": "2023-05-02T09:20:11.385Z"
   },
   {
    "duration": 136,
    "start_time": "2023-05-02T09:20:11.584Z"
   },
   {
    "duration": 211,
    "start_time": "2023-05-02T09:20:11.722Z"
   },
   {
    "duration": 95,
    "start_time": "2023-05-02T09:20:11.935Z"
   },
   {
    "duration": 24,
    "start_time": "2023-05-02T09:20:12.033Z"
   },
   {
    "duration": 40,
    "start_time": "2023-05-02T09:20:12.059Z"
   },
   {
    "duration": 50,
    "start_time": "2023-05-02T09:20:12.101Z"
   },
   {
    "duration": 65,
    "start_time": "2023-05-02T09:20:12.153Z"
   },
   {
    "duration": 57,
    "start_time": "2023-05-02T09:20:12.220Z"
   },
   {
    "duration": 45,
    "start_time": "2023-05-02T09:20:12.278Z"
   },
   {
    "duration": 28,
    "start_time": "2023-05-02T09:20:12.325Z"
   },
   {
    "duration": 40,
    "start_time": "2023-05-02T09:20:12.355Z"
   },
   {
    "duration": 46,
    "start_time": "2023-05-02T09:20:12.397Z"
   },
   {
    "duration": 199,
    "start_time": "2023-05-02T09:20:12.445Z"
   },
   {
    "duration": 5,
    "start_time": "2023-05-02T09:20:12.823Z"
   },
   {
    "duration": 135,
    "start_time": "2023-05-02T09:20:13.240Z"
   },
   {
    "duration": 410,
    "start_time": "2023-05-02T09:20:14.224Z"
   },
   {
    "duration": 31,
    "start_time": "2023-05-02T09:20:15.039Z"
   },
   {
    "duration": 408,
    "start_time": "2023-05-02T09:20:15.330Z"
   },
   {
    "duration": 337,
    "start_time": "2023-05-02T09:20:16.027Z"
   },
   {
    "duration": 27,
    "start_time": "2023-05-02T09:20:16.787Z"
   },
   {
    "duration": 73,
    "start_time": "2023-05-02T09:20:17.540Z"
   },
   {
    "duration": 419,
    "start_time": "2023-05-02T09:20:17.923Z"
   },
   {
    "duration": 196,
    "start_time": "2023-05-02T09:20:18.344Z"
   },
   {
    "duration": 301,
    "start_time": "2023-05-02T09:20:19.082Z"
   },
   {
    "duration": 9,
    "start_time": "2023-05-02T09:20:19.515Z"
   },
   {
    "duration": 22,
    "start_time": "2023-05-02T09:20:20.423Z"
   },
   {
    "duration": 16,
    "start_time": "2023-05-02T09:20:21.725Z"
   },
   {
    "duration": 13,
    "start_time": "2023-05-02T09:20:22.944Z"
   },
   {
    "duration": 90,
    "start_time": "2023-05-02T09:20:23.512Z"
   },
   {
    "duration": 83,
    "start_time": "2023-05-02T09:20:27.507Z"
   },
   {
    "duration": 1951,
    "start_time": "2023-05-02T09:20:28.712Z"
   },
   {
    "duration": 53399,
    "start_time": "2023-05-02T09:24:00.404Z"
   },
   {
    "duration": 29519,
    "start_time": "2023-05-02T09:25:42.800Z"
   },
   {
    "duration": 6,
    "start_time": "2023-05-02T09:30:57.604Z"
   },
   {
    "duration": 61,
    "start_time": "2023-05-02T09:31:16.735Z"
   },
   {
    "duration": 35,
    "start_time": "2023-05-02T09:33:03.215Z"
   },
   {
    "duration": 7430,
    "start_time": "2023-05-02T09:33:10.316Z"
   },
   {
    "duration": 1517,
    "start_time": "2023-05-02T09:37:43.524Z"
   },
   {
    "duration": 861,
    "start_time": "2023-05-02T09:37:47.308Z"
   },
   {
    "duration": 5053,
    "start_time": "2023-05-02T09:37:48.171Z"
   },
   {
    "duration": 155,
    "start_time": "2023-05-02T09:37:53.226Z"
   },
   {
    "duration": 494,
    "start_time": "2023-05-02T09:37:53.383Z"
   },
   {
    "duration": 491,
    "start_time": "2023-05-02T09:37:53.879Z"
   },
   {
    "duration": 133,
    "start_time": "2023-05-02T09:37:54.372Z"
   },
   {
    "duration": 194,
    "start_time": "2023-05-02T09:37:54.507Z"
   },
   {
    "duration": 91,
    "start_time": "2023-05-02T09:37:54.703Z"
   },
   {
    "duration": 149,
    "start_time": "2023-05-02T09:37:54.796Z"
   },
   {
    "duration": 36,
    "start_time": "2023-05-02T09:37:54.947Z"
   },
   {
    "duration": 37,
    "start_time": "2023-05-02T09:37:54.986Z"
   },
   {
    "duration": 39,
    "start_time": "2023-05-02T09:37:55.025Z"
   },
   {
    "duration": 36,
    "start_time": "2023-05-02T09:37:55.066Z"
   },
   {
    "duration": 53,
    "start_time": "2023-05-02T09:37:55.104Z"
   },
   {
    "duration": 76,
    "start_time": "2023-05-02T09:37:55.159Z"
   },
   {
    "duration": 36,
    "start_time": "2023-05-02T09:37:55.237Z"
   },
   {
    "duration": 32,
    "start_time": "2023-05-02T09:37:55.275Z"
   },
   {
    "duration": 47,
    "start_time": "2023-05-02T09:37:55.309Z"
   },
   {
    "duration": 39,
    "start_time": "2023-05-02T09:37:55.358Z"
   },
   {
    "duration": 135,
    "start_time": "2023-05-02T09:37:55.400Z"
   },
   {
    "duration": 8,
    "start_time": "2023-05-02T09:37:55.539Z"
   },
   {
    "duration": 161,
    "start_time": "2023-05-02T09:37:55.549Z"
   },
   {
    "duration": 427,
    "start_time": "2023-05-02T09:37:56.071Z"
   },
   {
    "duration": 47,
    "start_time": "2023-05-02T09:37:56.501Z"
   },
   {
    "duration": 430,
    "start_time": "2023-05-02T09:37:56.632Z"
   },
   {
    "duration": 408,
    "start_time": "2023-05-02T09:37:57.064Z"
   },
   {
    "duration": 23,
    "start_time": "2023-05-02T09:37:57.474Z"
   },
   {
    "duration": 79,
    "start_time": "2023-05-02T09:37:57.749Z"
   },
   {
    "duration": 397,
    "start_time": "2023-05-02T09:37:57.916Z"
   },
   {
    "duration": 173,
    "start_time": "2023-05-02T09:37:58.317Z"
   },
   {
    "duration": 285,
    "start_time": "2023-05-02T09:37:58.492Z"
   },
   {
    "duration": 12,
    "start_time": "2023-05-02T09:37:58.779Z"
   },
   {
    "duration": 30,
    "start_time": "2023-05-02T09:37:59.007Z"
   },
   {
    "duration": 13,
    "start_time": "2023-05-02T09:37:59.533Z"
   },
   {
    "duration": 13,
    "start_time": "2023-05-02T09:37:59.715Z"
   },
   {
    "duration": 100,
    "start_time": "2023-05-02T09:37:59.899Z"
   },
   {
    "duration": 88,
    "start_time": "2023-05-02T09:38:00.970Z"
   },
   {
    "duration": 1941,
    "start_time": "2023-05-02T09:38:01.637Z"
   },
   {
    "duration": 47566,
    "start_time": "2023-05-02T09:38:06.154Z"
   },
   {
    "duration": 7126,
    "start_time": "2023-05-02T09:38:53.722Z"
   },
   {
    "duration": 736438,
    "start_time": "2023-05-02T09:39:12.011Z"
   },
   {
    "duration": 226,
    "start_time": "2023-05-02T09:51:28.451Z"
   },
   {
    "duration": 9204,
    "start_time": "2023-05-02T09:51:28.678Z"
   },
   {
    "duration": 1559,
    "start_time": "2023-05-02T09:54:46.255Z"
   },
   {
    "duration": 1034,
    "start_time": "2023-05-02T09:54:47.817Z"
   },
   {
    "duration": 6032,
    "start_time": "2023-05-02T09:54:48.852Z"
   },
   {
    "duration": 204,
    "start_time": "2023-05-02T09:54:54.886Z"
   },
   {
    "duration": 680,
    "start_time": "2023-05-02T09:54:55.093Z"
   },
   {
    "duration": 627,
    "start_time": "2023-05-02T09:54:55.775Z"
   },
   {
    "duration": 199,
    "start_time": "2023-05-02T09:54:56.405Z"
   },
   {
    "duration": 250,
    "start_time": "2023-05-02T09:54:56.607Z"
   },
   {
    "duration": 122,
    "start_time": "2023-05-02T09:54:56.858Z"
   },
   {
    "duration": 174,
    "start_time": "2023-05-02T09:54:56.983Z"
   },
   {
    "duration": 73,
    "start_time": "2023-05-02T09:54:57.159Z"
   },
   {
    "duration": 44,
    "start_time": "2023-05-02T09:54:57.239Z"
   },
   {
    "duration": 67,
    "start_time": "2023-05-02T09:54:57.285Z"
   },
   {
    "duration": 31,
    "start_time": "2023-05-02T09:54:57.354Z"
   },
   {
    "duration": 112,
    "start_time": "2023-05-02T09:54:57.388Z"
   },
   {
    "duration": 105,
    "start_time": "2023-05-02T09:54:57.502Z"
   },
   {
    "duration": 57,
    "start_time": "2023-05-02T09:54:57.609Z"
   },
   {
    "duration": 68,
    "start_time": "2023-05-02T09:54:57.668Z"
   },
   {
    "duration": 96,
    "start_time": "2023-05-02T09:54:57.739Z"
   },
   {
    "duration": 49,
    "start_time": "2023-05-02T09:54:57.837Z"
   },
   {
    "duration": 165,
    "start_time": "2023-05-02T09:54:57.888Z"
   },
   {
    "duration": 26,
    "start_time": "2023-05-02T09:54:58.055Z"
   },
   {
    "duration": 200,
    "start_time": "2023-05-02T09:54:58.083Z"
   },
   {
    "duration": 718,
    "start_time": "2023-05-02T09:54:58.286Z"
   },
   {
    "duration": 68,
    "start_time": "2023-05-02T09:54:59.006Z"
   },
   {
    "duration": 547,
    "start_time": "2023-05-02T09:54:59.077Z"
   },
   {
    "duration": 439,
    "start_time": "2023-05-02T09:54:59.626Z"
   },
   {
    "duration": 28,
    "start_time": "2023-05-02T09:55:00.070Z"
   },
   {
    "duration": 111,
    "start_time": "2023-05-02T09:55:00.100Z"
   },
   {
    "duration": 565,
    "start_time": "2023-05-02T09:55:00.213Z"
   },
   {
    "duration": 204,
    "start_time": "2023-05-02T09:55:00.780Z"
   },
   {
    "duration": 311,
    "start_time": "2023-05-02T09:55:00.986Z"
   },
   {
    "duration": 30,
    "start_time": "2023-05-02T09:55:01.299Z"
   },
   {
    "duration": 63,
    "start_time": "2023-05-02T09:55:01.331Z"
   },
   {
    "duration": 51,
    "start_time": "2023-05-02T09:55:01.396Z"
   },
   {
    "duration": 49,
    "start_time": "2023-05-02T09:55:01.449Z"
   },
   {
    "duration": 200,
    "start_time": "2023-05-02T09:55:01.500Z"
   },
   {
    "duration": 132,
    "start_time": "2023-05-02T09:55:01.702Z"
   },
   {
    "duration": 2208,
    "start_time": "2023-05-02T09:55:01.836Z"
   },
   {
    "duration": 63901,
    "start_time": "2023-05-02T09:55:04.046Z"
   },
   {
    "duration": 7824,
    "start_time": "2023-05-02T09:56:08.017Z"
   },
   {
    "duration": 769431,
    "start_time": "2023-05-02T09:56:15.843Z"
   },
   {
    "duration": 403370,
    "start_time": "2023-05-02T10:09:05.276Z"
   },
   {
    "duration": 1968,
    "start_time": "2023-05-02T12:57:13.805Z"
   },
   {
    "duration": 1162,
    "start_time": "2023-05-02T12:57:15.776Z"
   },
   {
    "duration": 5841,
    "start_time": "2023-05-02T12:57:16.946Z"
   },
   {
    "duration": 236,
    "start_time": "2023-05-02T12:57:22.789Z"
   },
   {
    "duration": 636,
    "start_time": "2023-05-02T12:57:23.028Z"
   },
   {
    "duration": 736,
    "start_time": "2023-05-02T12:57:23.667Z"
   },
   {
    "duration": 202,
    "start_time": "2023-05-02T12:57:24.405Z"
   },
   {
    "duration": 519,
    "start_time": "2023-05-02T12:57:24.609Z"
   },
   {
    "duration": 151,
    "start_time": "2023-05-02T12:57:25.130Z"
   },
   {
    "duration": 189,
    "start_time": "2023-05-02T12:57:25.283Z"
   },
   {
    "duration": 81,
    "start_time": "2023-05-02T12:57:25.476Z"
   },
   {
    "duration": 53,
    "start_time": "2023-05-02T12:57:25.559Z"
   },
   {
    "duration": 88,
    "start_time": "2023-05-02T12:57:25.615Z"
   },
   {
    "duration": 91,
    "start_time": "2023-05-02T12:57:25.707Z"
   },
   {
    "duration": 114,
    "start_time": "2023-05-02T12:57:25.800Z"
   },
   {
    "duration": 140,
    "start_time": "2023-05-02T12:57:25.916Z"
   },
   {
    "duration": 64,
    "start_time": "2023-05-02T12:57:26.058Z"
   },
   {
    "duration": 84,
    "start_time": "2023-05-02T12:57:26.131Z"
   },
   {
    "duration": 55,
    "start_time": "2023-05-02T12:57:26.217Z"
   },
   {
    "duration": 47,
    "start_time": "2023-05-02T12:57:26.275Z"
   },
   {
    "duration": 183,
    "start_time": "2023-05-02T12:57:26.326Z"
   },
   {
    "duration": 162,
    "start_time": "2023-05-02T12:57:26.511Z"
   },
   {
    "duration": 240,
    "start_time": "2023-05-02T12:57:26.675Z"
   },
   {
    "duration": 656,
    "start_time": "2023-05-02T12:57:26.920Z"
   },
   {
    "duration": 54,
    "start_time": "2023-05-02T12:57:27.578Z"
   },
   {
    "duration": 467,
    "start_time": "2023-05-02T12:57:27.634Z"
   },
   {
    "duration": 411,
    "start_time": "2023-05-02T12:57:28.103Z"
   },
   {
    "duration": 32,
    "start_time": "2023-05-02T12:57:28.518Z"
   },
   {
    "duration": 164,
    "start_time": "2023-05-02T12:57:28.552Z"
   },
   {
    "duration": 679,
    "start_time": "2023-05-02T12:57:28.724Z"
   },
   {
    "duration": 234,
    "start_time": "2023-05-02T12:57:29.405Z"
   },
   {
    "duration": 323,
    "start_time": "2023-05-02T12:57:29.641Z"
   },
   {
    "duration": 10,
    "start_time": "2023-05-02T12:57:29.966Z"
   },
   {
    "duration": 55,
    "start_time": "2023-05-02T12:57:29.977Z"
   },
   {
    "duration": 14,
    "start_time": "2023-05-02T12:57:30.036Z"
   },
   {
    "duration": 82,
    "start_time": "2023-05-02T12:57:30.052Z"
   },
   {
    "duration": 200,
    "start_time": "2023-05-02T12:57:30.141Z"
   },
   {
    "duration": 127,
    "start_time": "2023-05-02T12:57:30.343Z"
   },
   {
    "duration": 2359,
    "start_time": "2023-05-02T12:57:30.473Z"
   },
   {
    "duration": 2076,
    "start_time": "2023-05-02T12:59:22.096Z"
   },
   {
    "duration": 1213,
    "start_time": "2023-05-02T12:59:24.174Z"
   },
   {
    "duration": 6673,
    "start_time": "2023-05-02T12:59:25.393Z"
   },
   {
    "duration": 333,
    "start_time": "2023-05-02T12:59:32.068Z"
   },
   {
    "duration": 780,
    "start_time": "2023-05-02T12:59:32.403Z"
   },
   {
    "duration": 803,
    "start_time": "2023-05-02T12:59:33.185Z"
   },
   {
    "duration": 257,
    "start_time": "2023-05-02T12:59:33.996Z"
   },
   {
    "duration": 429,
    "start_time": "2023-05-02T12:59:34.260Z"
   },
   {
    "duration": 202,
    "start_time": "2023-05-02T12:59:34.693Z"
   },
   {
    "duration": 210,
    "start_time": "2023-05-02T12:59:34.898Z"
   },
   {
    "duration": 68,
    "start_time": "2023-05-02T12:59:35.110Z"
   },
   {
    "duration": 69,
    "start_time": "2023-05-02T12:59:35.180Z"
   },
   {
    "duration": 117,
    "start_time": "2023-05-02T12:59:35.259Z"
   },
   {
    "duration": 126,
    "start_time": "2023-05-02T12:59:35.383Z"
   },
   {
    "duration": 93,
    "start_time": "2023-05-02T12:59:35.511Z"
   },
   {
    "duration": 147,
    "start_time": "2023-05-02T12:59:35.607Z"
   },
   {
    "duration": 93,
    "start_time": "2023-05-02T12:59:35.757Z"
   },
   {
    "duration": 95,
    "start_time": "2023-05-02T12:59:35.852Z"
   },
   {
    "duration": 101,
    "start_time": "2023-05-02T12:59:35.950Z"
   },
   {
    "duration": 64,
    "start_time": "2023-05-02T12:59:36.055Z"
   },
   {
    "duration": 319,
    "start_time": "2023-05-02T12:59:36.121Z"
   },
   {
    "duration": 37,
    "start_time": "2023-05-02T12:59:36.442Z"
   },
   {
    "duration": 254,
    "start_time": "2023-05-02T12:59:36.482Z"
   },
   {
    "duration": 771,
    "start_time": "2023-05-02T12:59:36.740Z"
   },
   {
    "duration": 36,
    "start_time": "2023-05-02T12:59:37.517Z"
   },
   {
    "duration": 650,
    "start_time": "2023-05-02T12:59:37.557Z"
   },
   {
    "duration": 535,
    "start_time": "2023-05-02T12:59:38.209Z"
   },
   {
    "duration": 28,
    "start_time": "2023-05-02T12:59:38.748Z"
   },
   {
    "duration": 139,
    "start_time": "2023-05-02T12:59:38.782Z"
   },
   {
    "duration": 824,
    "start_time": "2023-05-02T12:59:38.928Z"
   },
   {
    "duration": 289,
    "start_time": "2023-05-02T12:59:39.759Z"
   },
   {
    "duration": 340,
    "start_time": "2023-05-02T12:59:40.055Z"
   },
   {
    "duration": 22,
    "start_time": "2023-05-02T12:59:40.397Z"
   },
   {
    "duration": 34,
    "start_time": "2023-05-02T12:59:40.421Z"
   },
   {
    "duration": 41,
    "start_time": "2023-05-02T12:59:40.457Z"
   },
   {
    "duration": 17,
    "start_time": "2023-05-02T12:59:40.500Z"
   },
   {
    "duration": 223,
    "start_time": "2023-05-02T12:59:40.525Z"
   },
   {
    "duration": 101,
    "start_time": "2023-05-02T12:59:40.752Z"
   },
   {
    "duration": 2552,
    "start_time": "2023-05-02T12:59:40.859Z"
   },
   {
    "duration": 1991,
    "start_time": "2023-05-02T13:00:19.801Z"
   },
   {
    "duration": 1153,
    "start_time": "2023-05-02T13:00:21.794Z"
   },
   {
    "duration": 6663,
    "start_time": "2023-05-02T13:00:22.949Z"
   },
   {
    "duration": 232,
    "start_time": "2023-05-02T13:00:29.615Z"
   },
   {
    "duration": 662,
    "start_time": "2023-05-02T13:00:29.853Z"
   },
   {
    "duration": 702,
    "start_time": "2023-05-02T13:00:30.517Z"
   },
   {
    "duration": 189,
    "start_time": "2023-05-02T13:00:31.221Z"
   },
   {
    "duration": 288,
    "start_time": "2023-05-02T13:00:31.419Z"
   },
   {
    "duration": 147,
    "start_time": "2023-05-02T13:00:31.711Z"
   },
   {
    "duration": 226,
    "start_time": "2023-05-02T13:00:31.871Z"
   },
   {
    "duration": 61,
    "start_time": "2023-05-02T13:00:32.099Z"
   },
   {
    "duration": 53,
    "start_time": "2023-05-02T13:00:32.161Z"
   },
   {
    "duration": 66,
    "start_time": "2023-05-02T13:00:32.216Z"
   },
   {
    "duration": 55,
    "start_time": "2023-05-02T13:00:32.284Z"
   },
   {
    "duration": 121,
    "start_time": "2023-05-02T13:00:32.341Z"
   },
   {
    "duration": 104,
    "start_time": "2023-05-02T13:00:32.465Z"
   },
   {
    "duration": 62,
    "start_time": "2023-05-02T13:00:32.571Z"
   },
   {
    "duration": 94,
    "start_time": "2023-05-02T13:00:32.639Z"
   },
   {
    "duration": 127,
    "start_time": "2023-05-02T13:00:32.735Z"
   },
   {
    "duration": 62,
    "start_time": "2023-05-02T13:00:32.864Z"
   },
   {
    "duration": 320,
    "start_time": "2023-05-02T13:00:32.929Z"
   },
   {
    "duration": 60,
    "start_time": "2023-05-02T13:00:33.252Z"
   },
   {
    "duration": 222,
    "start_time": "2023-05-02T13:00:33.314Z"
   },
   {
    "duration": 556,
    "start_time": "2023-05-02T13:00:33.541Z"
   },
   {
    "duration": 55,
    "start_time": "2023-05-02T13:00:34.099Z"
   },
   {
    "duration": 531,
    "start_time": "2023-05-02T13:00:34.164Z"
   },
   {
    "duration": 473,
    "start_time": "2023-05-02T13:00:34.697Z"
   },
   {
    "duration": 31,
    "start_time": "2023-05-02T13:00:35.174Z"
   },
   {
    "duration": 147,
    "start_time": "2023-05-02T13:00:35.217Z"
   },
   {
    "duration": 554,
    "start_time": "2023-05-02T13:00:35.368Z"
   },
   {
    "duration": 265,
    "start_time": "2023-05-02T13:00:35.923Z"
   },
   {
    "duration": 399,
    "start_time": "2023-05-02T13:00:36.191Z"
   },
   {
    "duration": 18,
    "start_time": "2023-05-02T13:00:36.595Z"
   },
   {
    "duration": 91,
    "start_time": "2023-05-02T13:00:36.619Z"
   },
   {
    "duration": 24,
    "start_time": "2023-05-02T13:00:36.713Z"
   },
   {
    "duration": 68,
    "start_time": "2023-05-02T13:00:36.739Z"
   },
   {
    "duration": 203,
    "start_time": "2023-05-02T13:00:36.810Z"
   },
   {
    "duration": 155,
    "start_time": "2023-05-02T13:00:37.018Z"
   },
   {
    "duration": 2408,
    "start_time": "2023-05-02T13:00:37.176Z"
   },
   {
    "duration": 73956,
    "start_time": "2023-05-02T13:00:39.587Z"
   },
   {
    "duration": 8658,
    "start_time": "2023-05-02T13:01:53.549Z"
   },
   {
    "duration": 567547,
    "start_time": "2023-05-02T13:02:02.210Z"
   },
   {
    "duration": 408524,
    "start_time": "2023-05-02T13:11:29.759Z"
   },
   {
    "duration": 5995132,
    "start_time": "2023-05-02T13:18:18.285Z"
   },
   {
    "duration": 27962,
    "start_time": "2023-05-02T14:58:42.062Z"
   },
   {
    "duration": 398,
    "start_time": "2023-05-02T14:59:10.026Z"
   },
   {
    "duration": 95,
    "start_time": "2023-05-02T14:59:10.426Z"
   },
   {
    "duration": 26,
    "start_time": "2023-05-02T14:59:10.523Z"
   },
   {
    "duration": 664,
    "start_time": "2023-05-02T14:59:16.371Z"
   },
   {
    "duration": 42,
    "start_time": "2023-05-02T14:59:17.037Z"
   },
   {
    "duration": 5,
    "start_time": "2023-05-02T14:59:17.177Z"
   },
   {
    "duration": 4,
    "start_time": "2023-05-02T14:59:17.949Z"
   },
   {
    "duration": 82861,
    "start_time": "2023-05-02T14:59:24.117Z"
   },
   {
    "duration": 5944,
    "start_time": "2023-05-02T15:00:46.980Z"
   },
   {
    "duration": 4,
    "start_time": "2023-05-02T15:00:52.926Z"
   },
   {
    "duration": 15,
    "start_time": "2023-05-02T15:00:52.932Z"
   },
   {
    "duration": 13889,
    "start_time": "2023-05-02T15:01:07.732Z"
   },
   {
    "duration": 2202,
    "start_time": "2023-05-02T15:01:21.624Z"
   },
   {
    "duration": 4,
    "start_time": "2023-05-02T15:01:23.828Z"
   },
   {
    "duration": 9,
    "start_time": "2023-05-02T15:01:23.834Z"
   },
   {
    "duration": 157,
    "start_time": "2023-05-02T15:05:22.536Z"
   },
   {
    "duration": 12,
    "start_time": "2023-05-02T15:05:51.150Z"
   },
   {
    "duration": 13800,
    "start_time": "2023-05-02T15:06:21.548Z"
   }
  ],
  "kernelspec": {
   "display_name": "Python 3 (ipykernel)",
   "language": "python",
   "name": "python3"
  },
  "language_info": {
   "codemirror_mode": {
    "name": "ipython",
    "version": 3
   },
   "file_extension": ".py",
   "mimetype": "text/x-python",
   "name": "python",
   "nbconvert_exporter": "python",
   "pygments_lexer": "ipython3",
   "version": "3.9.5"
  },
  "toc": {
   "base_numbering": 1,
   "nav_menu": {},
   "number_sections": true,
   "sideBar": true,
   "skip_h1_title": true,
   "title_cell": "Table of Contents",
   "title_sidebar": "Contents",
   "toc_cell": false,
   "toc_position": {
    "height": "calc(100% - 180px)",
    "left": "10px",
    "top": "150px",
    "width": "165px"
   },
   "toc_section_display": true,
   "toc_window_display": true
  }
 },
 "nbformat": 4,
 "nbformat_minor": 2
}
